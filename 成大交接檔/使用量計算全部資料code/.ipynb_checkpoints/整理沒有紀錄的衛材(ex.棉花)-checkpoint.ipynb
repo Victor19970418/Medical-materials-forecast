{
 "cells": [
  {
   "cell_type": "code",
   "execution_count": 1,
   "id": "a4d836f9",
   "metadata": {},
   "outputs": [],
   "source": [
    "import pandas as pd\n",
    "import os\n",
    "from collections import Counter"
   ]
  },
  {
   "cell_type": "markdown",
   "id": "57aedc34",
   "metadata": {},
   "source": [
    "取得庫存所有資料"
   ]
  },
  {
   "cell_type": "code",
   "execution_count": 3,
   "id": "523127cb",
   "metadata": {},
   "outputs": [
    {
     "ename": "FileNotFoundError",
     "evalue": "[Errno 2] No such file or directory: '../../成大醫院物料預測/2019~2021庫存/108年度病房出入庫日報表/108年度出入庫日報表-六病房.xlsx'",
     "output_type": "error",
     "traceback": [
      "\u001b[1;31m---------------------------------------------------------------------------\u001b[0m",
      "\u001b[1;31mFileNotFoundError\u001b[0m                         Traceback (most recent call last)",
      "Input \u001b[1;32mIn [3]\u001b[0m, in \u001b[0;36m<cell line: 10>\u001b[1;34m()\u001b[0m\n\u001b[0;32m     17\u001b[0m         temp \u001b[38;5;241m=\u001b[39m  pd\u001b[38;5;241m.\u001b[39mDataFrame()\n\u001b[0;32m     18\u001b[0m         \u001b[38;5;66;03m# sheet_name控制開起的頁面\u001b[39;00m\n\u001b[0;32m     19\u001b[0m \n\u001b[0;32m     20\u001b[0m \u001b[38;5;66;03m#         temp=pd.read_excel(f\"../成大醫院物料預測/2019~2021庫存/{year}年度病房衛材帳務日期/{year}年衛材批價明細(帳務日期)-{room}.xlsx\",sheet_name = f'{month}月',skiprows=2,index_col=0)\u001b[39;00m\n\u001b[1;32m---> 21\u001b[0m         temp\u001b[38;5;241m=\u001b[39m\u001b[43mpd\u001b[49m\u001b[38;5;241;43m.\u001b[39;49m\u001b[43mread_excel\u001b[49m\u001b[43m(\u001b[49m\u001b[38;5;124;43mf\u001b[39;49m\u001b[38;5;124;43m\"\u001b[39;49m\u001b[38;5;124;43m../../成大醫院物料預測/2019~2021庫存/\u001b[39;49m\u001b[38;5;132;43;01m{\u001b[39;49;00m\u001b[43myear\u001b[49m\u001b[38;5;132;43;01m}\u001b[39;49;00m\u001b[38;5;124;43m年度病房出入庫日報表/\u001b[39;49m\u001b[38;5;132;43;01m{\u001b[39;49;00m\u001b[43myear\u001b[49m\u001b[38;5;132;43;01m}\u001b[39;49;00m\u001b[38;5;124;43m年度出入庫日報表-\u001b[39;49m\u001b[38;5;132;43;01m{\u001b[39;49;00m\u001b[43mroom\u001b[49m\u001b[38;5;132;43;01m}\u001b[39;49;00m\u001b[38;5;124;43m.xlsx\u001b[39;49m\u001b[38;5;124;43m\"\u001b[39;49m\u001b[43m,\u001b[49m\u001b[43msheet_name\u001b[49m\u001b[43m \u001b[49m\u001b[38;5;241;43m=\u001b[39;49m\u001b[43m \u001b[49m\u001b[38;5;124;43mf\u001b[39;49m\u001b[38;5;124;43m'\u001b[39;49m\u001b[38;5;132;43;01m{\u001b[39;49;00m\u001b[43mmonth\u001b[49m\u001b[38;5;132;43;01m}\u001b[39;49;00m\u001b[38;5;124;43m月\u001b[39;49m\u001b[38;5;124;43m'\u001b[39;49m\u001b[43m,\u001b[49m\u001b[43mindex_col\u001b[49m\u001b[38;5;241;43m=\u001b[39;49m\u001b[38;5;241;43m0\u001b[39;49m\u001b[43m)\u001b[49m\n\u001b[0;32m     22\u001b[0m     \u001b[38;5;66;03m#         total_data=pd.read_excel(f\"../成大醫院物料預測/2019~2021庫存/{year}年度病房衛材帳務日期/{year}年衛材批價明細(帳務日期)-{room}.xlsx\",sheet_name = f'{month}月',index_col=0)\u001b[39;00m\n\u001b[0;32m     23\u001b[0m         temp \u001b[38;5;241m=\u001b[39m temp[temp\u001b[38;5;241m.\u001b[39mcolumns\u001b[38;5;241m.\u001b[39mdrop(\u001b[38;5;28mlist\u001b[39m(temp\u001b[38;5;241m.\u001b[39mfilter(regex\u001b[38;5;241m=\u001b[39m\u001b[38;5;124m'\u001b[39m\u001b[38;5;124mUnnamed\u001b[39m\u001b[38;5;124m'\u001b[39m)))]\n",
      "File \u001b[1;32m~\\anaconda3\\envs\\Eisai\\lib\\site-packages\\pandas\\util\\_decorators.py:211\u001b[0m, in \u001b[0;36mdeprecate_kwarg.<locals>._deprecate_kwarg.<locals>.wrapper\u001b[1;34m(*args, **kwargs)\u001b[0m\n\u001b[0;32m    209\u001b[0m     \u001b[38;5;28;01melse\u001b[39;00m:\n\u001b[0;32m    210\u001b[0m         kwargs[new_arg_name] \u001b[38;5;241m=\u001b[39m new_arg_value\n\u001b[1;32m--> 211\u001b[0m \u001b[38;5;28;01mreturn\u001b[39;00m \u001b[43mfunc\u001b[49m\u001b[43m(\u001b[49m\u001b[38;5;241;43m*\u001b[39;49m\u001b[43margs\u001b[49m\u001b[43m,\u001b[49m\u001b[43m \u001b[49m\u001b[38;5;241;43m*\u001b[39;49m\u001b[38;5;241;43m*\u001b[39;49m\u001b[43mkwargs\u001b[49m\u001b[43m)\u001b[49m\n",
      "File \u001b[1;32m~\\anaconda3\\envs\\Eisai\\lib\\site-packages\\pandas\\util\\_decorators.py:317\u001b[0m, in \u001b[0;36mdeprecate_nonkeyword_arguments.<locals>.decorate.<locals>.wrapper\u001b[1;34m(*args, **kwargs)\u001b[0m\n\u001b[0;32m    311\u001b[0m \u001b[38;5;28;01mif\u001b[39;00m \u001b[38;5;28mlen\u001b[39m(args) \u001b[38;5;241m>\u001b[39m num_allow_args:\n\u001b[0;32m    312\u001b[0m     warnings\u001b[38;5;241m.\u001b[39mwarn(\n\u001b[0;32m    313\u001b[0m         msg\u001b[38;5;241m.\u001b[39mformat(arguments\u001b[38;5;241m=\u001b[39marguments),\n\u001b[0;32m    314\u001b[0m         \u001b[38;5;167;01mFutureWarning\u001b[39;00m,\n\u001b[0;32m    315\u001b[0m         stacklevel\u001b[38;5;241m=\u001b[39mfind_stack_level(inspect\u001b[38;5;241m.\u001b[39mcurrentframe()),\n\u001b[0;32m    316\u001b[0m     )\n\u001b[1;32m--> 317\u001b[0m \u001b[38;5;28;01mreturn\u001b[39;00m \u001b[43mfunc\u001b[49m\u001b[43m(\u001b[49m\u001b[38;5;241;43m*\u001b[39;49m\u001b[43margs\u001b[49m\u001b[43m,\u001b[49m\u001b[43m \u001b[49m\u001b[38;5;241;43m*\u001b[39;49m\u001b[38;5;241;43m*\u001b[39;49m\u001b[43mkwargs\u001b[49m\u001b[43m)\u001b[49m\n",
      "File \u001b[1;32m~\\anaconda3\\envs\\Eisai\\lib\\site-packages\\pandas\\io\\excel\\_base.py:483\u001b[0m, in \u001b[0;36mread_excel\u001b[1;34m(io, sheet_name, header, names, index_col, usecols, squeeze, dtype, engine, converters, true_values, false_values, skiprows, nrows, na_values, keep_default_na, na_filter, verbose, parse_dates, date_parser, thousands, decimal, comment, skipfooter, convert_float, mangle_dupe_cols, storage_options)\u001b[0m\n\u001b[0;32m    481\u001b[0m \u001b[38;5;28;01mif\u001b[39;00m \u001b[38;5;129;01mnot\u001b[39;00m \u001b[38;5;28misinstance\u001b[39m(io, ExcelFile):\n\u001b[0;32m    482\u001b[0m     should_close \u001b[38;5;241m=\u001b[39m \u001b[38;5;28;01mTrue\u001b[39;00m\n\u001b[1;32m--> 483\u001b[0m     io \u001b[38;5;241m=\u001b[39m \u001b[43mExcelFile\u001b[49m\u001b[43m(\u001b[49m\u001b[43mio\u001b[49m\u001b[43m,\u001b[49m\u001b[43m \u001b[49m\u001b[43mstorage_options\u001b[49m\u001b[38;5;241;43m=\u001b[39;49m\u001b[43mstorage_options\u001b[49m\u001b[43m,\u001b[49m\u001b[43m \u001b[49m\u001b[43mengine\u001b[49m\u001b[38;5;241;43m=\u001b[39;49m\u001b[43mengine\u001b[49m\u001b[43m)\u001b[49m\n\u001b[0;32m    484\u001b[0m \u001b[38;5;28;01melif\u001b[39;00m engine \u001b[38;5;129;01mand\u001b[39;00m engine \u001b[38;5;241m!=\u001b[39m io\u001b[38;5;241m.\u001b[39mengine:\n\u001b[0;32m    485\u001b[0m     \u001b[38;5;28;01mraise\u001b[39;00m \u001b[38;5;167;01mValueError\u001b[39;00m(\n\u001b[0;32m    486\u001b[0m         \u001b[38;5;124m\"\u001b[39m\u001b[38;5;124mEngine should not be specified when passing \u001b[39m\u001b[38;5;124m\"\u001b[39m\n\u001b[0;32m    487\u001b[0m         \u001b[38;5;124m\"\u001b[39m\u001b[38;5;124man ExcelFile - ExcelFile already has the engine set\u001b[39m\u001b[38;5;124m\"\u001b[39m\n\u001b[0;32m    488\u001b[0m     )\n",
      "File \u001b[1;32m~\\anaconda3\\envs\\Eisai\\lib\\site-packages\\pandas\\io\\excel\\_base.py:1629\u001b[0m, in \u001b[0;36mExcelFile.__init__\u001b[1;34m(self, path_or_buffer, engine, storage_options)\u001b[0m\n\u001b[0;32m   1627\u001b[0m     ext \u001b[38;5;241m=\u001b[39m \u001b[38;5;124m\"\u001b[39m\u001b[38;5;124mxls\u001b[39m\u001b[38;5;124m\"\u001b[39m\n\u001b[0;32m   1628\u001b[0m \u001b[38;5;28;01melse\u001b[39;00m:\n\u001b[1;32m-> 1629\u001b[0m     ext \u001b[38;5;241m=\u001b[39m \u001b[43minspect_excel_format\u001b[49m\u001b[43m(\u001b[49m\n\u001b[0;32m   1630\u001b[0m \u001b[43m        \u001b[49m\u001b[43mcontent_or_path\u001b[49m\u001b[38;5;241;43m=\u001b[39;49m\u001b[43mpath_or_buffer\u001b[49m\u001b[43m,\u001b[49m\u001b[43m \u001b[49m\u001b[43mstorage_options\u001b[49m\u001b[38;5;241;43m=\u001b[39;49m\u001b[43mstorage_options\u001b[49m\n\u001b[0;32m   1631\u001b[0m \u001b[43m    \u001b[49m\u001b[43m)\u001b[49m\n\u001b[0;32m   1632\u001b[0m     \u001b[38;5;28;01mif\u001b[39;00m ext \u001b[38;5;129;01mis\u001b[39;00m \u001b[38;5;28;01mNone\u001b[39;00m:\n\u001b[0;32m   1633\u001b[0m         \u001b[38;5;28;01mraise\u001b[39;00m \u001b[38;5;167;01mValueError\u001b[39;00m(\n\u001b[0;32m   1634\u001b[0m             \u001b[38;5;124m\"\u001b[39m\u001b[38;5;124mExcel file format cannot be determined, you must specify \u001b[39m\u001b[38;5;124m\"\u001b[39m\n\u001b[0;32m   1635\u001b[0m             \u001b[38;5;124m\"\u001b[39m\u001b[38;5;124man engine manually.\u001b[39m\u001b[38;5;124m\"\u001b[39m\n\u001b[0;32m   1636\u001b[0m         )\n",
      "File \u001b[1;32m~\\anaconda3\\envs\\Eisai\\lib\\site-packages\\pandas\\io\\excel\\_base.py:1502\u001b[0m, in \u001b[0;36minspect_excel_format\u001b[1;34m(content_or_path, storage_options)\u001b[0m\n\u001b[0;32m   1499\u001b[0m \u001b[38;5;28;01mif\u001b[39;00m \u001b[38;5;28misinstance\u001b[39m(content_or_path, \u001b[38;5;28mbytes\u001b[39m):\n\u001b[0;32m   1500\u001b[0m     content_or_path \u001b[38;5;241m=\u001b[39m BytesIO(content_or_path)\n\u001b[1;32m-> 1502\u001b[0m \u001b[38;5;28;01mwith\u001b[39;00m \u001b[43mget_handle\u001b[49m\u001b[43m(\u001b[49m\n\u001b[0;32m   1503\u001b[0m \u001b[43m    \u001b[49m\u001b[43mcontent_or_path\u001b[49m\u001b[43m,\u001b[49m\u001b[43m \u001b[49m\u001b[38;5;124;43m\"\u001b[39;49m\u001b[38;5;124;43mrb\u001b[39;49m\u001b[38;5;124;43m\"\u001b[39;49m\u001b[43m,\u001b[49m\u001b[43m \u001b[49m\u001b[43mstorage_options\u001b[49m\u001b[38;5;241;43m=\u001b[39;49m\u001b[43mstorage_options\u001b[49m\u001b[43m,\u001b[49m\u001b[43m \u001b[49m\u001b[43mis_text\u001b[49m\u001b[38;5;241;43m=\u001b[39;49m\u001b[38;5;28;43;01mFalse\u001b[39;49;00m\n\u001b[0;32m   1504\u001b[0m \u001b[43m\u001b[49m\u001b[43m)\u001b[49m \u001b[38;5;28;01mas\u001b[39;00m handle:\n\u001b[0;32m   1505\u001b[0m     stream \u001b[38;5;241m=\u001b[39m handle\u001b[38;5;241m.\u001b[39mhandle\n\u001b[0;32m   1506\u001b[0m     stream\u001b[38;5;241m.\u001b[39mseek(\u001b[38;5;241m0\u001b[39m)\n",
      "File \u001b[1;32m~\\anaconda3\\envs\\Eisai\\lib\\site-packages\\pandas\\io\\common.py:866\u001b[0m, in \u001b[0;36mget_handle\u001b[1;34m(path_or_buf, mode, encoding, compression, memory_map, is_text, errors, storage_options)\u001b[0m\n\u001b[0;32m    857\u001b[0m         handle \u001b[38;5;241m=\u001b[39m \u001b[38;5;28mopen\u001b[39m(\n\u001b[0;32m    858\u001b[0m             handle,\n\u001b[0;32m    859\u001b[0m             ioargs\u001b[38;5;241m.\u001b[39mmode,\n\u001b[1;32m   (...)\u001b[0m\n\u001b[0;32m    862\u001b[0m             newline\u001b[38;5;241m=\u001b[39m\u001b[38;5;124m\"\u001b[39m\u001b[38;5;124m\"\u001b[39m,\n\u001b[0;32m    863\u001b[0m         )\n\u001b[0;32m    864\u001b[0m     \u001b[38;5;28;01melse\u001b[39;00m:\n\u001b[0;32m    865\u001b[0m         \u001b[38;5;66;03m# Binary mode\u001b[39;00m\n\u001b[1;32m--> 866\u001b[0m         handle \u001b[38;5;241m=\u001b[39m \u001b[38;5;28;43mopen\u001b[39;49m\u001b[43m(\u001b[49m\u001b[43mhandle\u001b[49m\u001b[43m,\u001b[49m\u001b[43m \u001b[49m\u001b[43mioargs\u001b[49m\u001b[38;5;241;43m.\u001b[39;49m\u001b[43mmode\u001b[49m\u001b[43m)\u001b[49m\n\u001b[0;32m    867\u001b[0m     handles\u001b[38;5;241m.\u001b[39mappend(handle)\n\u001b[0;32m    869\u001b[0m \u001b[38;5;66;03m# Convert BytesIO or file objects passed with an encoding\u001b[39;00m\n",
      "\u001b[1;31mFileNotFoundError\u001b[0m: [Errno 2] No such file or directory: '../../成大醫院物料預測/2019~2021庫存/108年度病房出入庫日報表/108年度出入庫日報表-六病房.xlsx'"
     ]
    }
   ],
   "source": [
    "# 月份\n",
    "months = [1,2,3,4,5,6,7,8,9,10,11,12]\n",
    "# 年分\n",
    "years = [108,109,110]\n",
    "# 病房\n",
    "# rooms = ['五病房','六病房','加護病房','呼吸照護病房']\n",
    "rooms = ['六病房']\n",
    "final_data = pd.DataFrame()\n",
    "\n",
    "for year in years:\n",
    "    for room in rooms:\n",
    "        total_data =  pd.DataFrame()\n",
    "        for month in months:\n",
    "            #暫存每個月分的領用量\n",
    "            usage_temp = pd.DataFrame()\n",
    "        #     每個月分的所有資料\n",
    "            temp =  pd.DataFrame()\n",
    "            # sheet_name控制開起的頁面\n",
    "\n",
    "    #         temp=pd.read_excel(f\"../成大醫院物料預測/2019~2021庫存/{year}年度病房衛材帳務日期/{year}年衛材批價明細(帳務日期)-{room}.xlsx\",sheet_name = f'{month}月',skiprows=2,index_col=0)\n",
    "            temp=pd.read_excel(f\"../成大醫院物料預測/2019~2021庫存/{year}年度病房出入庫日報表/{year}年度出入庫日報表-{room}.xlsx\",sheet_name = f'{month}月',index_col=0)\n",
    "        #         total_data=pd.read_excel(f\"../成大醫院物料預測/2019~2021庫存/{year}年度病房衛材帳務日期/{year}年衛材批價明細(帳務日期)-{room}.xlsx\",sheet_name = f'{month}月',index_col=0)\n",
    "            temp = temp[temp.columns.drop(list(temp.filter(regex='Unnamed')))]\n",
    "            total_data = pd.concat([total_data, temp])\n",
    "\n",
    "        # 只刪除日期是空值的\n",
    "        print(total_data.index)\n",
    "        total_data.reset_index(inplace=True)\n",
    "        total_data = total_data.rename(columns = {'index':'日期'})\n",
    "        total_data = total_data.dropna(subset=[\"日期\"])\n",
    "\n",
    "\n",
    "\n",
    "        # 加入週的欄位\n",
    "        total_data[\"日期\"] = pd.to_datetime(total_data[\"日期\"] ,format='%Y/%m/%d')\n",
    "        total_data['週'] = total_data['日期'].dt.isocalendar().week\n",
    "    final_data =  pd.concat([final_data, total_data])\n",
    "# 全部資料合併\n",
    "#     total_data.to_csv(f\"./全部資料合併/{year+1911}_{room}_合併檔.csv\",encoding='utf_8_sig') \n",
    "\n",
    "# 讀取所有料號，並刪除相同的料號的值\n",
    "final_data = final_data.drop_duplicates(subset=['料號'])\n",
    "final_data= final_data[['料號']]\n",
    "final_data['料號'] = final_data['料號'].str.strip()\n",
    "final_data"
   ]
  },
  {
   "cell_type": "markdown",
   "id": "d1982268",
   "metadata": {},
   "source": [
    "取得五病房有紀錄所有料號"
   ]
  },
  {
   "cell_type": "code",
   "execution_count": null,
   "id": "820f9736",
   "metadata": {
    "scrolled": false
   },
   "outputs": [],
   "source": [
    "record_data =  pd.DataFrame()\n",
    "for year in years:\n",
    "    temp =  pd.DataFrame()\n",
    "    temp=pd.read_csv(f\"../以月為單位/{year+1911}_{room}_衛材使用量.csv\")\n",
    "    record_data = pd.concat([record_data, temp])\n",
    "\n",
    "# 讀取所有料號，並刪除相同的料號的值\n",
    "record_data = record_data.drop_duplicates(subset=['料號'])\n",
    "record_data = record_data[['料號']]\n",
    "record_data['料號'] = record_data['料號'].str.strip()\n",
    "record_data"
   ]
  },
  {
   "cell_type": "code",
   "execution_count": null,
   "id": "fb966203",
   "metadata": {},
   "outputs": [],
   "source": [
    "final_data=final_data.append(record_data).reset_index(drop=True)\n",
    "final_data=final_data.drop_duplicates(subset=['料號'],keep=False)\n",
    "\n",
    "final_data.to_csv(f\"./{room}沒有紀錄衛材總類.csv\",encoding='utf_8_sig') \n",
    "\n",
    "\n"
   ]
  },
  {
   "cell_type": "markdown",
   "id": "b78b050e",
   "metadata": {},
   "source": [
    "和全部資料合併，查看找出的93筆資料的品名"
   ]
  },
  {
   "cell_type": "code",
   "execution_count": null,
   "id": "12e72799",
   "metadata": {},
   "outputs": [],
   "source": [
    "all_Eisai = pd.read_excel(f\"../../大庫所有衛材品項及實際撥補量資料.xlsx\",sheet_name = \"大庫房的所有衛材品項資料\",index_col=0)\n",
    "find_name = pd.read_csv(f\"./{room}沒有紀錄衛材總類.csv\")\n",
    "find_name = find_name[find_name.columns.drop(list(find_name.filter(regex='Unnamed')))]\n",
    "all_Eisai = all_Eisai[all_Eisai.columns.drop(list(all_Eisai.filter(regex='Unnamed')))]\n",
    "all_Eisai.reset_index(inplace=True)\n",
    "all_Eisai = all_Eisai.rename(columns = {'Order_Code':'料號'})\n",
    "all_Eisai['料號'] = all_Eisai['料號'].str.strip()\n",
    "data = pd.merge(find_name,all_Eisai, on=[\"料號\"],how=\"inner\")\n",
    "\n",
    "data\n",
    "data.to_csv(f\"./{room}最終需要計算衛材總類.csv\",encoding='utf_8_sig') \n",
    "\n",
    "\n"
   ]
  }
 ],
 "metadata": {
  "kernelspec": {
   "display_name": "Python 3 (ipykernel)",
   "language": "python",
   "name": "python3"
  },
  "language_info": {
   "codemirror_mode": {
    "name": "ipython",
    "version": 3
   },
   "file_extension": ".py",
   "mimetype": "text/x-python",
   "name": "python",
   "nbconvert_exporter": "python",
   "pygments_lexer": "ipython3",
   "version": "3.8.13"
  }
 },
 "nbformat": 4,
 "nbformat_minor": 5
}
