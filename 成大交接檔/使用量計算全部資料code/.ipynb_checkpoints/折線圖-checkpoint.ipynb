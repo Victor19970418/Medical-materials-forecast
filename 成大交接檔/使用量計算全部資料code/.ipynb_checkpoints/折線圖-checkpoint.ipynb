{
 "cells": [
  {
   "cell_type": "markdown",
   "id": "dd920d3a",
   "metadata": {},
   "source": [
    "引用"
   ]
  },
  {
   "cell_type": "code",
   "execution_count": 5,
   "id": "ca841eaa",
   "metadata": {},
   "outputs": [],
   "source": [
    "import plotly as py\n",
    "import plotly.graph_objs as go\n",
    "from plotly.offline import iplot, init_notebook_mode\n",
    "import plotly.express as px\n",
    "import matplotlib.pyplot as plt\n",
    "import pandas as pd"
   ]
  },
  {
   "cell_type": "markdown",
   "id": "fd663805",
   "metadata": {},
   "source": [
    "讀取資料+整理"
   ]
  },
  {
   "cell_type": "code",
   "execution_count": 12,
   "id": "72544fa5",
   "metadata": {},
   "outputs": [
    {
     "name": "stdout",
     "output_type": "stream",
     "text": [
      "52\n"
     ]
    },
    {
     "data": {
      "text/html": [
       "<div>\n",
       "<style scoped>\n",
       "    .dataframe tbody tr th:only-of-type {\n",
       "        vertical-align: middle;\n",
       "    }\n",
       "\n",
       "    .dataframe tbody tr th {\n",
       "        vertical-align: top;\n",
       "    }\n",
       "\n",
       "    .dataframe thead th {\n",
       "        text-align: right;\n",
       "    }\n",
       "</style>\n",
       "<table border=\"1\" class=\"dataframe\">\n",
       "  <thead>\n",
       "    <tr style=\"text-align: right;\">\n",
       "      <th></th>\n",
       "      <th>Unnamed: 0</th>\n",
       "      <th>庫房</th>\n",
       "      <th>料號</th>\n",
       "      <th>品名</th>\n",
       "      <th>數量</th>\n",
       "      <th>週</th>\n",
       "    </tr>\n",
       "  </thead>\n",
       "  <tbody>\n",
       "    <tr>\n",
       "      <th>0</th>\n",
       "      <td>41651</td>\n",
       "      <td>DLN5</td>\n",
       "      <td>A00120067</td>\n",
       "      <td>5cc 塑膠注射空針</td>\n",
       "      <td>128.0</td>\n",
       "      <td>1</td>\n",
       "    </tr>\n",
       "    <tr>\n",
       "      <th>1</th>\n",
       "      <td>543</td>\n",
       "      <td>DLN5</td>\n",
       "      <td>A00120067</td>\n",
       "      <td>5cc 塑膠注射空針</td>\n",
       "      <td>136.0</td>\n",
       "      <td>2</td>\n",
       "    </tr>\n",
       "    <tr>\n",
       "      <th>2</th>\n",
       "      <td>623</td>\n",
       "      <td>DLN5</td>\n",
       "      <td>A00120067</td>\n",
       "      <td>5cc 塑膠注射空針</td>\n",
       "      <td>128.0</td>\n",
       "      <td>3</td>\n",
       "    </tr>\n",
       "    <tr>\n",
       "      <th>3</th>\n",
       "      <td>708</td>\n",
       "      <td>DLN5</td>\n",
       "      <td>A00120067</td>\n",
       "      <td>5cc 塑膠注射空針</td>\n",
       "      <td>135.0</td>\n",
       "      <td>4</td>\n",
       "    </tr>\n",
       "    <tr>\n",
       "      <th>4</th>\n",
       "      <td>3996</td>\n",
       "      <td>DLN5</td>\n",
       "      <td>A00120067</td>\n",
       "      <td>5cc 塑膠注射空針</td>\n",
       "      <td>91.0</td>\n",
       "      <td>5</td>\n",
       "    </tr>\n",
       "    <tr>\n",
       "      <th>5</th>\n",
       "      <td>4045</td>\n",
       "      <td>DLN5</td>\n",
       "      <td>A00120067</td>\n",
       "      <td>5cc 塑膠注射空針</td>\n",
       "      <td>78.0</td>\n",
       "      <td>6</td>\n",
       "    </tr>\n",
       "    <tr>\n",
       "      <th>6</th>\n",
       "      <td>4136</td>\n",
       "      <td>DLN5</td>\n",
       "      <td>A00120067</td>\n",
       "      <td>5cc 塑膠注射空針</td>\n",
       "      <td>131.0</td>\n",
       "      <td>7</td>\n",
       "    </tr>\n",
       "    <tr>\n",
       "      <th>7</th>\n",
       "      <td>4222</td>\n",
       "      <td>DLN5</td>\n",
       "      <td>A00120067</td>\n",
       "      <td>5cc 塑膠注射空針</td>\n",
       "      <td>126.0</td>\n",
       "      <td>8</td>\n",
       "    </tr>\n",
       "    <tr>\n",
       "      <th>8</th>\n",
       "      <td>7893</td>\n",
       "      <td>DLN5</td>\n",
       "      <td>A00120067</td>\n",
       "      <td>5cc 塑膠注射空針</td>\n",
       "      <td>136.0</td>\n",
       "      <td>9</td>\n",
       "    </tr>\n",
       "    <tr>\n",
       "      <th>9</th>\n",
       "      <td>7995</td>\n",
       "      <td>DLN5</td>\n",
       "      <td>A00120067</td>\n",
       "      <td>5cc 塑膠注射空針</td>\n",
       "      <td>161.0</td>\n",
       "      <td>10</td>\n",
       "    </tr>\n",
       "    <tr>\n",
       "      <th>10</th>\n",
       "      <td>8098</td>\n",
       "      <td>DLN5</td>\n",
       "      <td>A00120067</td>\n",
       "      <td>5cc 塑膠注射空針</td>\n",
       "      <td>173.0</td>\n",
       "      <td>11</td>\n",
       "    </tr>\n",
       "    <tr>\n",
       "      <th>11</th>\n",
       "      <td>8219</td>\n",
       "      <td>DLN5</td>\n",
       "      <td>A00120067</td>\n",
       "      <td>5cc 塑膠注射空針</td>\n",
       "      <td>189.0</td>\n",
       "      <td>12</td>\n",
       "    </tr>\n",
       "    <tr>\n",
       "      <th>12</th>\n",
       "      <td>8297</td>\n",
       "      <td>DLN5</td>\n",
       "      <td>A00120067</td>\n",
       "      <td>5cc 塑膠注射空針</td>\n",
       "      <td>125.0</td>\n",
       "      <td>13</td>\n",
       "    </tr>\n",
       "    <tr>\n",
       "      <th>13</th>\n",
       "      <td>11832</td>\n",
       "      <td>DLN5</td>\n",
       "      <td>A00120067</td>\n",
       "      <td>5cc 塑膠注射空針</td>\n",
       "      <td>68.0</td>\n",
       "      <td>14</td>\n",
       "    </tr>\n",
       "    <tr>\n",
       "      <th>14</th>\n",
       "      <td>11931</td>\n",
       "      <td>DLN5</td>\n",
       "      <td>A00120067</td>\n",
       "      <td>5cc 塑膠注射空針</td>\n",
       "      <td>140.0</td>\n",
       "      <td>15</td>\n",
       "    </tr>\n",
       "    <tr>\n",
       "      <th>15</th>\n",
       "      <td>12015</td>\n",
       "      <td>DLN5</td>\n",
       "      <td>A00120067</td>\n",
       "      <td>5cc 塑膠注射空針</td>\n",
       "      <td>114.0</td>\n",
       "      <td>16</td>\n",
       "    </tr>\n",
       "    <tr>\n",
       "      <th>16</th>\n",
       "      <td>12127</td>\n",
       "      <td>DLN5</td>\n",
       "      <td>A00120067</td>\n",
       "      <td>5cc 塑膠注射空針</td>\n",
       "      <td>164.0</td>\n",
       "      <td>17</td>\n",
       "    </tr>\n",
       "    <tr>\n",
       "      <th>17</th>\n",
       "      <td>15679</td>\n",
       "      <td>DLN5</td>\n",
       "      <td>A00120067</td>\n",
       "      <td>5cc 塑膠注射空針</td>\n",
       "      <td>103.0</td>\n",
       "      <td>18</td>\n",
       "    </tr>\n",
       "    <tr>\n",
       "      <th>18</th>\n",
       "      <td>15776</td>\n",
       "      <td>DLN5</td>\n",
       "      <td>A00120067</td>\n",
       "      <td>5cc 塑膠注射空針</td>\n",
       "      <td>147.0</td>\n",
       "      <td>19</td>\n",
       "    </tr>\n",
       "    <tr>\n",
       "      <th>19</th>\n",
       "      <td>15863</td>\n",
       "      <td>DLN5</td>\n",
       "      <td>A00120067</td>\n",
       "      <td>5cc 塑膠注射空針</td>\n",
       "      <td>131.0</td>\n",
       "      <td>20</td>\n",
       "    </tr>\n",
       "    <tr>\n",
       "      <th>20</th>\n",
       "      <td>15945</td>\n",
       "      <td>DLN5</td>\n",
       "      <td>A00120067</td>\n",
       "      <td>5cc 塑膠注射空針</td>\n",
       "      <td>134.0</td>\n",
       "      <td>21</td>\n",
       "    </tr>\n",
       "    <tr>\n",
       "      <th>21</th>\n",
       "      <td>19239</td>\n",
       "      <td>DLN5</td>\n",
       "      <td>A00120067</td>\n",
       "      <td>5cc 塑膠注射空針</td>\n",
       "      <td>109.0</td>\n",
       "      <td>22</td>\n",
       "    </tr>\n",
       "    <tr>\n",
       "      <th>22</th>\n",
       "      <td>19304</td>\n",
       "      <td>DLN5</td>\n",
       "      <td>A00120067</td>\n",
       "      <td>5cc 塑膠注射空針</td>\n",
       "      <td>113.0</td>\n",
       "      <td>23</td>\n",
       "    </tr>\n",
       "    <tr>\n",
       "      <th>23</th>\n",
       "      <td>19390</td>\n",
       "      <td>DLN5</td>\n",
       "      <td>A00120067</td>\n",
       "      <td>5cc 塑膠注射空針</td>\n",
       "      <td>124.0</td>\n",
       "      <td>24</td>\n",
       "    </tr>\n",
       "    <tr>\n",
       "      <th>24</th>\n",
       "      <td>19479</td>\n",
       "      <td>DLN5</td>\n",
       "      <td>A00120067</td>\n",
       "      <td>5cc 塑膠注射空針</td>\n",
       "      <td>133.0</td>\n",
       "      <td>25</td>\n",
       "    </tr>\n",
       "    <tr>\n",
       "      <th>25</th>\n",
       "      <td>19572</td>\n",
       "      <td>DLN5</td>\n",
       "      <td>A00120067</td>\n",
       "      <td>5cc 塑膠注射空針</td>\n",
       "      <td>127.0</td>\n",
       "      <td>26</td>\n",
       "    </tr>\n",
       "    <tr>\n",
       "      <th>26</th>\n",
       "      <td>22627</td>\n",
       "      <td>DLN5</td>\n",
       "      <td>A00120067</td>\n",
       "      <td>5cc 塑膠注射空針</td>\n",
       "      <td>143.0</td>\n",
       "      <td>27</td>\n",
       "    </tr>\n",
       "    <tr>\n",
       "      <th>27</th>\n",
       "      <td>22705</td>\n",
       "      <td>DLN5</td>\n",
       "      <td>A00120067</td>\n",
       "      <td>5cc 塑膠注射空針</td>\n",
       "      <td>107.0</td>\n",
       "      <td>28</td>\n",
       "    </tr>\n",
       "    <tr>\n",
       "      <th>28</th>\n",
       "      <td>22786</td>\n",
       "      <td>DLN5</td>\n",
       "      <td>A00120067</td>\n",
       "      <td>5cc 塑膠注射空針</td>\n",
       "      <td>128.0</td>\n",
       "      <td>29</td>\n",
       "    </tr>\n",
       "    <tr>\n",
       "      <th>29</th>\n",
       "      <td>22883</td>\n",
       "      <td>DLN5</td>\n",
       "      <td>A00120067</td>\n",
       "      <td>5cc 塑膠注射空針</td>\n",
       "      <td>153.0</td>\n",
       "      <td>30</td>\n",
       "    </tr>\n",
       "    <tr>\n",
       "      <th>30</th>\n",
       "      <td>26249</td>\n",
       "      <td>DLN5</td>\n",
       "      <td>A00120067</td>\n",
       "      <td>5cc 塑膠注射空針</td>\n",
       "      <td>110.0</td>\n",
       "      <td>31</td>\n",
       "    </tr>\n",
       "    <tr>\n",
       "      <th>31</th>\n",
       "      <td>26333</td>\n",
       "      <td>DLN5</td>\n",
       "      <td>A00120067</td>\n",
       "      <td>5cc 塑膠注射空針</td>\n",
       "      <td>141.0</td>\n",
       "      <td>32</td>\n",
       "    </tr>\n",
       "    <tr>\n",
       "      <th>32</th>\n",
       "      <td>26449</td>\n",
       "      <td>DLN5</td>\n",
       "      <td>A00120067</td>\n",
       "      <td>5cc 塑膠注射空針</td>\n",
       "      <td>190.0</td>\n",
       "      <td>33</td>\n",
       "    </tr>\n",
       "    <tr>\n",
       "      <th>33</th>\n",
       "      <td>26509</td>\n",
       "      <td>DLN5</td>\n",
       "      <td>A00120067</td>\n",
       "      <td>5cc 塑膠注射空針</td>\n",
       "      <td>86.0</td>\n",
       "      <td>34</td>\n",
       "    </tr>\n",
       "    <tr>\n",
       "      <th>34</th>\n",
       "      <td>29972</td>\n",
       "      <td>DLN5</td>\n",
       "      <td>A00120067</td>\n",
       "      <td>5cc 塑膠注射空針</td>\n",
       "      <td>123.0</td>\n",
       "      <td>35</td>\n",
       "    </tr>\n",
       "    <tr>\n",
       "      <th>35</th>\n",
       "      <td>30097</td>\n",
       "      <td>DLN5</td>\n",
       "      <td>A00120067</td>\n",
       "      <td>5cc 塑膠注射空針</td>\n",
       "      <td>202.0</td>\n",
       "      <td>36</td>\n",
       "    </tr>\n",
       "    <tr>\n",
       "      <th>36</th>\n",
       "      <td>30195</td>\n",
       "      <td>DLN5</td>\n",
       "      <td>A00120067</td>\n",
       "      <td>5cc 塑膠注射空針</td>\n",
       "      <td>141.0</td>\n",
       "      <td>37</td>\n",
       "    </tr>\n",
       "    <tr>\n",
       "      <th>37</th>\n",
       "      <td>30274</td>\n",
       "      <td>DLN5</td>\n",
       "      <td>A00120067</td>\n",
       "      <td>5cc 塑膠注射空針</td>\n",
       "      <td>111.0</td>\n",
       "      <td>38</td>\n",
       "    </tr>\n",
       "    <tr>\n",
       "      <th>38</th>\n",
       "      <td>30335</td>\n",
       "      <td>DLN5</td>\n",
       "      <td>A00120067</td>\n",
       "      <td>5cc 塑膠注射空針</td>\n",
       "      <td>90.0</td>\n",
       "      <td>39</td>\n",
       "    </tr>\n",
       "    <tr>\n",
       "      <th>39</th>\n",
       "      <td>33831</td>\n",
       "      <td>DLN5</td>\n",
       "      <td>A00120067</td>\n",
       "      <td>5cc 塑膠注射空針</td>\n",
       "      <td>124.0</td>\n",
       "      <td>40</td>\n",
       "    </tr>\n",
       "    <tr>\n",
       "      <th>40</th>\n",
       "      <td>33923</td>\n",
       "      <td>DLN5</td>\n",
       "      <td>A00120067</td>\n",
       "      <td>5cc 塑膠注射空針</td>\n",
       "      <td>151.0</td>\n",
       "      <td>41</td>\n",
       "    </tr>\n",
       "    <tr>\n",
       "      <th>41</th>\n",
       "      <td>34000</td>\n",
       "      <td>DLN5</td>\n",
       "      <td>A00120067</td>\n",
       "      <td>5cc 塑膠注射空針</td>\n",
       "      <td>114.0</td>\n",
       "      <td>42</td>\n",
       "    </tr>\n",
       "    <tr>\n",
       "      <th>42</th>\n",
       "      <td>34098</td>\n",
       "      <td>DLN5</td>\n",
       "      <td>A00120067</td>\n",
       "      <td>5cc 塑膠注射空針</td>\n",
       "      <td>164.0</td>\n",
       "      <td>43</td>\n",
       "    </tr>\n",
       "    <tr>\n",
       "      <th>43</th>\n",
       "      <td>37460</td>\n",
       "      <td>DLN5</td>\n",
       "      <td>A00120067</td>\n",
       "      <td>5cc 塑膠注射空針</td>\n",
       "      <td>110.0</td>\n",
       "      <td>44</td>\n",
       "    </tr>\n",
       "    <tr>\n",
       "      <th>44</th>\n",
       "      <td>37513</td>\n",
       "      <td>DLN5</td>\n",
       "      <td>A00120067</td>\n",
       "      <td>5cc 塑膠注射空針</td>\n",
       "      <td>84.0</td>\n",
       "      <td>45</td>\n",
       "    </tr>\n",
       "    <tr>\n",
       "      <th>45</th>\n",
       "      <td>37589</td>\n",
       "      <td>DLN5</td>\n",
       "      <td>A00120067</td>\n",
       "      <td>5cc 塑膠注射空針</td>\n",
       "      <td>130.0</td>\n",
       "      <td>46</td>\n",
       "    </tr>\n",
       "    <tr>\n",
       "      <th>46</th>\n",
       "      <td>37684</td>\n",
       "      <td>DLN5</td>\n",
       "      <td>A00120067</td>\n",
       "      <td>5cc 塑膠注射空針</td>\n",
       "      <td>146.0</td>\n",
       "      <td>47</td>\n",
       "    </tr>\n",
       "    <tr>\n",
       "      <th>47</th>\n",
       "      <td>41299</td>\n",
       "      <td>DLN5</td>\n",
       "      <td>A00120067</td>\n",
       "      <td>5cc 塑膠注射空針</td>\n",
       "      <td>126.0</td>\n",
       "      <td>48</td>\n",
       "    </tr>\n",
       "    <tr>\n",
       "      <th>48</th>\n",
       "      <td>41380</td>\n",
       "      <td>DLN5</td>\n",
       "      <td>A00120067</td>\n",
       "      <td>5cc 塑膠注射空針</td>\n",
       "      <td>118.0</td>\n",
       "      <td>49</td>\n",
       "    </tr>\n",
       "    <tr>\n",
       "      <th>49</th>\n",
       "      <td>41447</td>\n",
       "      <td>DLN5</td>\n",
       "      <td>A00120067</td>\n",
       "      <td>5cc 塑膠注射空針</td>\n",
       "      <td>101.0</td>\n",
       "      <td>50</td>\n",
       "    </tr>\n",
       "    <tr>\n",
       "      <th>50</th>\n",
       "      <td>41527</td>\n",
       "      <td>DLN5</td>\n",
       "      <td>A00120067</td>\n",
       "      <td>5cc 塑膠注射空針</td>\n",
       "      <td>122.0</td>\n",
       "      <td>51</td>\n",
       "    </tr>\n",
       "    <tr>\n",
       "      <th>51</th>\n",
       "      <td>41626</td>\n",
       "      <td>DLN5</td>\n",
       "      <td>A00120067</td>\n",
       "      <td>5cc 塑膠注射空針</td>\n",
       "      <td>147.0</td>\n",
       "      <td>52</td>\n",
       "    </tr>\n",
       "  </tbody>\n",
       "</table>\n",
       "</div>"
      ],
      "text/plain": [
       "    Unnamed: 0    庫房         料號          品名     數量   週\n",
       "0        41651  DLN5  A00120067  5cc 塑膠注射空針  128.0   1\n",
       "1          543  DLN5  A00120067  5cc 塑膠注射空針  136.0   2\n",
       "2          623  DLN5  A00120067  5cc 塑膠注射空針  128.0   3\n",
       "3          708  DLN5  A00120067  5cc 塑膠注射空針  135.0   4\n",
       "4         3996  DLN5  A00120067  5cc 塑膠注射空針   91.0   5\n",
       "5         4045  DLN5  A00120067  5cc 塑膠注射空針   78.0   6\n",
       "6         4136  DLN5  A00120067  5cc 塑膠注射空針  131.0   7\n",
       "7         4222  DLN5  A00120067  5cc 塑膠注射空針  126.0   8\n",
       "8         7893  DLN5  A00120067  5cc 塑膠注射空針  136.0   9\n",
       "9         7995  DLN5  A00120067  5cc 塑膠注射空針  161.0  10\n",
       "10        8098  DLN5  A00120067  5cc 塑膠注射空針  173.0  11\n",
       "11        8219  DLN5  A00120067  5cc 塑膠注射空針  189.0  12\n",
       "12        8297  DLN5  A00120067  5cc 塑膠注射空針  125.0  13\n",
       "13       11832  DLN5  A00120067  5cc 塑膠注射空針   68.0  14\n",
       "14       11931  DLN5  A00120067  5cc 塑膠注射空針  140.0  15\n",
       "15       12015  DLN5  A00120067  5cc 塑膠注射空針  114.0  16\n",
       "16       12127  DLN5  A00120067  5cc 塑膠注射空針  164.0  17\n",
       "17       15679  DLN5  A00120067  5cc 塑膠注射空針  103.0  18\n",
       "18       15776  DLN5  A00120067  5cc 塑膠注射空針  147.0  19\n",
       "19       15863  DLN5  A00120067  5cc 塑膠注射空針  131.0  20\n",
       "20       15945  DLN5  A00120067  5cc 塑膠注射空針  134.0  21\n",
       "21       19239  DLN5  A00120067  5cc 塑膠注射空針  109.0  22\n",
       "22       19304  DLN5  A00120067  5cc 塑膠注射空針  113.0  23\n",
       "23       19390  DLN5  A00120067  5cc 塑膠注射空針  124.0  24\n",
       "24       19479  DLN5  A00120067  5cc 塑膠注射空針  133.0  25\n",
       "25       19572  DLN5  A00120067  5cc 塑膠注射空針  127.0  26\n",
       "26       22627  DLN5  A00120067  5cc 塑膠注射空針  143.0  27\n",
       "27       22705  DLN5  A00120067  5cc 塑膠注射空針  107.0  28\n",
       "28       22786  DLN5  A00120067  5cc 塑膠注射空針  128.0  29\n",
       "29       22883  DLN5  A00120067  5cc 塑膠注射空針  153.0  30\n",
       "30       26249  DLN5  A00120067  5cc 塑膠注射空針  110.0  31\n",
       "31       26333  DLN5  A00120067  5cc 塑膠注射空針  141.0  32\n",
       "32       26449  DLN5  A00120067  5cc 塑膠注射空針  190.0  33\n",
       "33       26509  DLN5  A00120067  5cc 塑膠注射空針   86.0  34\n",
       "34       29972  DLN5  A00120067  5cc 塑膠注射空針  123.0  35\n",
       "35       30097  DLN5  A00120067  5cc 塑膠注射空針  202.0  36\n",
       "36       30195  DLN5  A00120067  5cc 塑膠注射空針  141.0  37\n",
       "37       30274  DLN5  A00120067  5cc 塑膠注射空針  111.0  38\n",
       "38       30335  DLN5  A00120067  5cc 塑膠注射空針   90.0  39\n",
       "39       33831  DLN5  A00120067  5cc 塑膠注射空針  124.0  40\n",
       "40       33923  DLN5  A00120067  5cc 塑膠注射空針  151.0  41\n",
       "41       34000  DLN5  A00120067  5cc 塑膠注射空針  114.0  42\n",
       "42       34098  DLN5  A00120067  5cc 塑膠注射空針  164.0  43\n",
       "43       37460  DLN5  A00120067  5cc 塑膠注射空針  110.0  44\n",
       "44       37513  DLN5  A00120067  5cc 塑膠注射空針   84.0  45\n",
       "45       37589  DLN5  A00120067  5cc 塑膠注射空針  130.0  46\n",
       "46       37684  DLN5  A00120067  5cc 塑膠注射空針  146.0  47\n",
       "47       41299  DLN5  A00120067  5cc 塑膠注射空針  126.0  48\n",
       "48       41380  DLN5  A00120067  5cc 塑膠注射空針  118.0  49\n",
       "49       41447  DLN5  A00120067  5cc 塑膠注射空針  101.0  50\n",
       "50       41527  DLN5  A00120067  5cc 塑膠注射空針  122.0  51\n",
       "51       41626  DLN5  A00120067  5cc 塑膠注射空針  147.0  52"
      ]
     },
     "execution_count": 12,
     "metadata": {},
     "output_type": "execute_result"
    }
   ],
   "source": [
    "# 料號\n",
    "part_no = 'A00120110'\n",
    "part_no_2019data = pd.read_csv(f\"./以週為單位/{part_no}_2019週期資料.csv\",encoding='utf_8_sig') \n",
    "part_no_2020data = pd.read_csv(f\"./以週為單位/{part_no}_2020週期資料.csv\",encoding='utf_8_sig') \n",
    "part_no_2021data = pd.read_csv(f\"./以週為單位/{part_no}_2021週期資料.csv\",encoding='utf_8_sig') \n",
    "print(len(part_no_data))\n",
    "part_no_data"
   ]
  },
  {
   "cell_type": "code",
   "execution_count": 13,
   "id": "e552ac59",
   "metadata": {},
   "outputs": [
    {
     "data": {
      "application/vnd.plotly.v1+json": {
       "config": {
        "plotlyServerURL": "https://plot.ly"
       },
       "data": [
        {
         "line": {
          "color": "#1f77b4",
          "dash": "dash"
         },
         "mode": "lines",
         "name": "2019使用",
         "type": "scatter",
         "x": [
          1,
          2,
          3,
          4,
          5,
          6,
          7,
          8,
          9,
          10,
          11,
          12,
          13,
          14,
          15,
          16,
          17,
          18,
          19,
          20,
          21,
          22,
          23,
          24,
          25,
          26,
          27,
          28,
          29,
          30,
          31,
          32,
          33,
          34,
          35,
          36,
          37,
          38,
          39,
          40,
          41,
          42,
          43,
          44,
          45,
          46,
          47,
          48,
          49,
          50,
          51,
          52
         ],
         "y": [
          128,
          136,
          128,
          135,
          91,
          78,
          131,
          126,
          136,
          161,
          173,
          189,
          125,
          68,
          140,
          114,
          164,
          103,
          147,
          131,
          134,
          109,
          113,
          124,
          133,
          127,
          143,
          107,
          128,
          153,
          110,
          141,
          190,
          86,
          123,
          202,
          141,
          111,
          90,
          124,
          151,
          114,
          164,
          110,
          84,
          130,
          146,
          126,
          118,
          101,
          122,
          147
         ]
        },
        {
         "line": {
          "color": "#ff7f0e"
         },
         "mode": "lines",
         "name": "2020使用",
         "type": "scatter",
         "x": [
          1,
          2,
          3,
          4,
          5,
          6,
          7,
          8,
          9,
          10,
          11,
          12,
          13,
          14,
          15,
          16,
          17,
          18,
          19,
          20,
          21,
          22,
          23,
          24,
          25,
          26,
          27,
          28,
          29,
          30,
          31,
          32,
          33,
          34,
          35,
          36,
          37,
          38,
          39,
          40,
          41,
          42,
          43,
          44,
          45,
          46,
          47,
          48,
          49,
          50,
          51,
          52
         ],
         "y": [
          62,
          96,
          79,
          41,
          23,
          150,
          148,
          151,
          105,
          93,
          156,
          164,
          139,
          114,
          149,
          157,
          94,
          106,
          71,
          90,
          83,
          102,
          118,
          163,
          189,
          131,
          144,
          114,
          142,
          160,
          136,
          173,
          168,
          187,
          186,
          130,
          142,
          163,
          208,
          151,
          118,
          166,
          162,
          162,
          197,
          125,
          192,
          160,
          132,
          126,
          175,
          179
         ]
        },
        {
         "line": {
          "color": "#ff0e16"
         },
         "mode": "lines",
         "name": "2021",
         "type": "scatter",
         "x": [
          1,
          2,
          3,
          4,
          5,
          6,
          7,
          8,
          9,
          10,
          11,
          12,
          13,
          14,
          15,
          16,
          17,
          18,
          19,
          20,
          21,
          22,
          23,
          24,
          25,
          26,
          27,
          28,
          29,
          30,
          31,
          32,
          33,
          34,
          35,
          36,
          37,
          38,
          39,
          40,
          41,
          42,
          43,
          44,
          45,
          46,
          47,
          48,
          49,
          50,
          51,
          52
         ],
         "y": [
          162,
          160,
          103,
          127,
          135,
          15,
          98,
          189,
          154,
          149,
          170,
          139,
          112,
          141,
          124,
          107,
          149,
          179,
          128,
          110,
          114,
          131,
          118,
          67,
          91,
          104,
          173,
          195,
          142,
          158,
          174,
          168,
          113,
          118,
          139,
          168,
          199,
          141,
          224,
          104,
          117,
          101,
          153,
          165,
          113,
          81,
          156,
          147,
          101,
          113,
          176,
          110
         ]
        }
       ],
       "layout": {
        "font": {
         "size": 18
        },
        "height": 450,
        "template": {
         "data": {
          "bar": [
           {
            "error_x": {
             "color": "#2a3f5f"
            },
            "error_y": {
             "color": "#2a3f5f"
            },
            "marker": {
             "line": {
              "color": "#E5ECF6",
              "width": 0.5
             },
             "pattern": {
              "fillmode": "overlay",
              "size": 10,
              "solidity": 0.2
             }
            },
            "type": "bar"
           }
          ],
          "barpolar": [
           {
            "marker": {
             "line": {
              "color": "#E5ECF6",
              "width": 0.5
             },
             "pattern": {
              "fillmode": "overlay",
              "size": 10,
              "solidity": 0.2
             }
            },
            "type": "barpolar"
           }
          ],
          "carpet": [
           {
            "aaxis": {
             "endlinecolor": "#2a3f5f",
             "gridcolor": "white",
             "linecolor": "white",
             "minorgridcolor": "white",
             "startlinecolor": "#2a3f5f"
            },
            "baxis": {
             "endlinecolor": "#2a3f5f",
             "gridcolor": "white",
             "linecolor": "white",
             "minorgridcolor": "white",
             "startlinecolor": "#2a3f5f"
            },
            "type": "carpet"
           }
          ],
          "choropleth": [
           {
            "colorbar": {
             "outlinewidth": 0,
             "ticks": ""
            },
            "type": "choropleth"
           }
          ],
          "contour": [
           {
            "colorbar": {
             "outlinewidth": 0,
             "ticks": ""
            },
            "colorscale": [
             [
              0,
              "#0d0887"
             ],
             [
              0.1111111111111111,
              "#46039f"
             ],
             [
              0.2222222222222222,
              "#7201a8"
             ],
             [
              0.3333333333333333,
              "#9c179e"
             ],
             [
              0.4444444444444444,
              "#bd3786"
             ],
             [
              0.5555555555555556,
              "#d8576b"
             ],
             [
              0.6666666666666666,
              "#ed7953"
             ],
             [
              0.7777777777777778,
              "#fb9f3a"
             ],
             [
              0.8888888888888888,
              "#fdca26"
             ],
             [
              1,
              "#f0f921"
             ]
            ],
            "type": "contour"
           }
          ],
          "contourcarpet": [
           {
            "colorbar": {
             "outlinewidth": 0,
             "ticks": ""
            },
            "type": "contourcarpet"
           }
          ],
          "heatmap": [
           {
            "colorbar": {
             "outlinewidth": 0,
             "ticks": ""
            },
            "colorscale": [
             [
              0,
              "#0d0887"
             ],
             [
              0.1111111111111111,
              "#46039f"
             ],
             [
              0.2222222222222222,
              "#7201a8"
             ],
             [
              0.3333333333333333,
              "#9c179e"
             ],
             [
              0.4444444444444444,
              "#bd3786"
             ],
             [
              0.5555555555555556,
              "#d8576b"
             ],
             [
              0.6666666666666666,
              "#ed7953"
             ],
             [
              0.7777777777777778,
              "#fb9f3a"
             ],
             [
              0.8888888888888888,
              "#fdca26"
             ],
             [
              1,
              "#f0f921"
             ]
            ],
            "type": "heatmap"
           }
          ],
          "heatmapgl": [
           {
            "colorbar": {
             "outlinewidth": 0,
             "ticks": ""
            },
            "colorscale": [
             [
              0,
              "#0d0887"
             ],
             [
              0.1111111111111111,
              "#46039f"
             ],
             [
              0.2222222222222222,
              "#7201a8"
             ],
             [
              0.3333333333333333,
              "#9c179e"
             ],
             [
              0.4444444444444444,
              "#bd3786"
             ],
             [
              0.5555555555555556,
              "#d8576b"
             ],
             [
              0.6666666666666666,
              "#ed7953"
             ],
             [
              0.7777777777777778,
              "#fb9f3a"
             ],
             [
              0.8888888888888888,
              "#fdca26"
             ],
             [
              1,
              "#f0f921"
             ]
            ],
            "type": "heatmapgl"
           }
          ],
          "histogram": [
           {
            "marker": {
             "pattern": {
              "fillmode": "overlay",
              "size": 10,
              "solidity": 0.2
             }
            },
            "type": "histogram"
           }
          ],
          "histogram2d": [
           {
            "colorbar": {
             "outlinewidth": 0,
             "ticks": ""
            },
            "colorscale": [
             [
              0,
              "#0d0887"
             ],
             [
              0.1111111111111111,
              "#46039f"
             ],
             [
              0.2222222222222222,
              "#7201a8"
             ],
             [
              0.3333333333333333,
              "#9c179e"
             ],
             [
              0.4444444444444444,
              "#bd3786"
             ],
             [
              0.5555555555555556,
              "#d8576b"
             ],
             [
              0.6666666666666666,
              "#ed7953"
             ],
             [
              0.7777777777777778,
              "#fb9f3a"
             ],
             [
              0.8888888888888888,
              "#fdca26"
             ],
             [
              1,
              "#f0f921"
             ]
            ],
            "type": "histogram2d"
           }
          ],
          "histogram2dcontour": [
           {
            "colorbar": {
             "outlinewidth": 0,
             "ticks": ""
            },
            "colorscale": [
             [
              0,
              "#0d0887"
             ],
             [
              0.1111111111111111,
              "#46039f"
             ],
             [
              0.2222222222222222,
              "#7201a8"
             ],
             [
              0.3333333333333333,
              "#9c179e"
             ],
             [
              0.4444444444444444,
              "#bd3786"
             ],
             [
              0.5555555555555556,
              "#d8576b"
             ],
             [
              0.6666666666666666,
              "#ed7953"
             ],
             [
              0.7777777777777778,
              "#fb9f3a"
             ],
             [
              0.8888888888888888,
              "#fdca26"
             ],
             [
              1,
              "#f0f921"
             ]
            ],
            "type": "histogram2dcontour"
           }
          ],
          "mesh3d": [
           {
            "colorbar": {
             "outlinewidth": 0,
             "ticks": ""
            },
            "type": "mesh3d"
           }
          ],
          "parcoords": [
           {
            "line": {
             "colorbar": {
              "outlinewidth": 0,
              "ticks": ""
             }
            },
            "type": "parcoords"
           }
          ],
          "pie": [
           {
            "automargin": true,
            "type": "pie"
           }
          ],
          "scatter": [
           {
            "fillpattern": {
             "fillmode": "overlay",
             "size": 10,
             "solidity": 0.2
            },
            "type": "scatter"
           }
          ],
          "scatter3d": [
           {
            "line": {
             "colorbar": {
              "outlinewidth": 0,
              "ticks": ""
             }
            },
            "marker": {
             "colorbar": {
              "outlinewidth": 0,
              "ticks": ""
             }
            },
            "type": "scatter3d"
           }
          ],
          "scattercarpet": [
           {
            "marker": {
             "colorbar": {
              "outlinewidth": 0,
              "ticks": ""
             }
            },
            "type": "scattercarpet"
           }
          ],
          "scattergeo": [
           {
            "marker": {
             "colorbar": {
              "outlinewidth": 0,
              "ticks": ""
             }
            },
            "type": "scattergeo"
           }
          ],
          "scattergl": [
           {
            "marker": {
             "colorbar": {
              "outlinewidth": 0,
              "ticks": ""
             }
            },
            "type": "scattergl"
           }
          ],
          "scattermapbox": [
           {
            "marker": {
             "colorbar": {
              "outlinewidth": 0,
              "ticks": ""
             }
            },
            "type": "scattermapbox"
           }
          ],
          "scatterpolar": [
           {
            "marker": {
             "colorbar": {
              "outlinewidth": 0,
              "ticks": ""
             }
            },
            "type": "scatterpolar"
           }
          ],
          "scatterpolargl": [
           {
            "marker": {
             "colorbar": {
              "outlinewidth": 0,
              "ticks": ""
             }
            },
            "type": "scatterpolargl"
           }
          ],
          "scatterternary": [
           {
            "marker": {
             "colorbar": {
              "outlinewidth": 0,
              "ticks": ""
             }
            },
            "type": "scatterternary"
           }
          ],
          "surface": [
           {
            "colorbar": {
             "outlinewidth": 0,
             "ticks": ""
            },
            "colorscale": [
             [
              0,
              "#0d0887"
             ],
             [
              0.1111111111111111,
              "#46039f"
             ],
             [
              0.2222222222222222,
              "#7201a8"
             ],
             [
              0.3333333333333333,
              "#9c179e"
             ],
             [
              0.4444444444444444,
              "#bd3786"
             ],
             [
              0.5555555555555556,
              "#d8576b"
             ],
             [
              0.6666666666666666,
              "#ed7953"
             ],
             [
              0.7777777777777778,
              "#fb9f3a"
             ],
             [
              0.8888888888888888,
              "#fdca26"
             ],
             [
              1,
              "#f0f921"
             ]
            ],
            "type": "surface"
           }
          ],
          "table": [
           {
            "cells": {
             "fill": {
              "color": "#EBF0F8"
             },
             "line": {
              "color": "white"
             }
            },
            "header": {
             "fill": {
              "color": "#C8D4E3"
             },
             "line": {
              "color": "white"
             }
            },
            "type": "table"
           }
          ]
         },
         "layout": {
          "annotationdefaults": {
           "arrowcolor": "#2a3f5f",
           "arrowhead": 0,
           "arrowwidth": 1
          },
          "autotypenumbers": "strict",
          "coloraxis": {
           "colorbar": {
            "outlinewidth": 0,
            "ticks": ""
           }
          },
          "colorscale": {
           "diverging": [
            [
             0,
             "#8e0152"
            ],
            [
             0.1,
             "#c51b7d"
            ],
            [
             0.2,
             "#de77ae"
            ],
            [
             0.3,
             "#f1b6da"
            ],
            [
             0.4,
             "#fde0ef"
            ],
            [
             0.5,
             "#f7f7f7"
            ],
            [
             0.6,
             "#e6f5d0"
            ],
            [
             0.7,
             "#b8e186"
            ],
            [
             0.8,
             "#7fbc41"
            ],
            [
             0.9,
             "#4d9221"
            ],
            [
             1,
             "#276419"
            ]
           ],
           "sequential": [
            [
             0,
             "#0d0887"
            ],
            [
             0.1111111111111111,
             "#46039f"
            ],
            [
             0.2222222222222222,
             "#7201a8"
            ],
            [
             0.3333333333333333,
             "#9c179e"
            ],
            [
             0.4444444444444444,
             "#bd3786"
            ],
            [
             0.5555555555555556,
             "#d8576b"
            ],
            [
             0.6666666666666666,
             "#ed7953"
            ],
            [
             0.7777777777777778,
             "#fb9f3a"
            ],
            [
             0.8888888888888888,
             "#fdca26"
            ],
            [
             1,
             "#f0f921"
            ]
           ],
           "sequentialminus": [
            [
             0,
             "#0d0887"
            ],
            [
             0.1111111111111111,
             "#46039f"
            ],
            [
             0.2222222222222222,
             "#7201a8"
            ],
            [
             0.3333333333333333,
             "#9c179e"
            ],
            [
             0.4444444444444444,
             "#bd3786"
            ],
            [
             0.5555555555555556,
             "#d8576b"
            ],
            [
             0.6666666666666666,
             "#ed7953"
            ],
            [
             0.7777777777777778,
             "#fb9f3a"
            ],
            [
             0.8888888888888888,
             "#fdca26"
            ],
            [
             1,
             "#f0f921"
            ]
           ]
          },
          "colorway": [
           "#636efa",
           "#EF553B",
           "#00cc96",
           "#ab63fa",
           "#FFA15A",
           "#19d3f3",
           "#FF6692",
           "#B6E880",
           "#FF97FF",
           "#FECB52"
          ],
          "font": {
           "color": "#2a3f5f"
          },
          "geo": {
           "bgcolor": "white",
           "lakecolor": "white",
           "landcolor": "#E5ECF6",
           "showlakes": true,
           "showland": true,
           "subunitcolor": "white"
          },
          "hoverlabel": {
           "align": "left"
          },
          "hovermode": "closest",
          "mapbox": {
           "style": "light"
          },
          "paper_bgcolor": "white",
          "plot_bgcolor": "#E5ECF6",
          "polar": {
           "angularaxis": {
            "gridcolor": "white",
            "linecolor": "white",
            "ticks": ""
           },
           "bgcolor": "#E5ECF6",
           "radialaxis": {
            "gridcolor": "white",
            "linecolor": "white",
            "ticks": ""
           }
          },
          "scene": {
           "xaxis": {
            "backgroundcolor": "#E5ECF6",
            "gridcolor": "white",
            "gridwidth": 2,
            "linecolor": "white",
            "showbackground": true,
            "ticks": "",
            "zerolinecolor": "white"
           },
           "yaxis": {
            "backgroundcolor": "#E5ECF6",
            "gridcolor": "white",
            "gridwidth": 2,
            "linecolor": "white",
            "showbackground": true,
            "ticks": "",
            "zerolinecolor": "white"
           },
           "zaxis": {
            "backgroundcolor": "#E5ECF6",
            "gridcolor": "white",
            "gridwidth": 2,
            "linecolor": "white",
            "showbackground": true,
            "ticks": "",
            "zerolinecolor": "white"
           }
          },
          "shapedefaults": {
           "line": {
            "color": "#2a3f5f"
           }
          },
          "ternary": {
           "aaxis": {
            "gridcolor": "white",
            "linecolor": "white",
            "ticks": ""
           },
           "baxis": {
            "gridcolor": "white",
            "linecolor": "white",
            "ticks": ""
           },
           "bgcolor": "#E5ECF6",
           "caxis": {
            "gridcolor": "white",
            "linecolor": "white",
            "ticks": ""
           }
          },
          "title": {
           "x": 0.05
          },
          "xaxis": {
           "automargin": true,
           "gridcolor": "white",
           "linecolor": "white",
           "ticks": "",
           "title": {
            "standoff": 15
           },
           "zerolinecolor": "white",
           "zerolinewidth": 2
          },
          "yaxis": {
           "automargin": true,
           "gridcolor": "white",
           "linecolor": "white",
           "ticks": "",
           "title": {
            "standoff": 15
           },
           "zerolinecolor": "white",
           "zerolinewidth": 2
          }
         }
        },
        "title": {
         "text": "2019 VS 2020 VS 2021"
        },
        "width": 1500,
        "xaxis": {
         "nticks": 52,
         "title": {
          "text": "日期"
         }
        },
        "yaxis": {
         "title": {
          "text": "用量"
         }
        }
       }
      },
      "text/html": [
       "<div>                            <div id=\"4cacdd14-62b0-4f7b-acc3-c2d80b2b5e60\" class=\"plotly-graph-div\" style=\"height:450px; width:1500px;\"></div>            <script type=\"text/javascript\">                require([\"plotly\"], function(Plotly) {                    window.PLOTLYENV=window.PLOTLYENV || {};                                    if (document.getElementById(\"4cacdd14-62b0-4f7b-acc3-c2d80b2b5e60\")) {                    Plotly.newPlot(                        \"4cacdd14-62b0-4f7b-acc3-c2d80b2b5e60\",                        [{\"line\":{\"color\":\"#1f77b4\",\"dash\":\"dash\"},\"mode\":\"lines\",\"name\":\"2019\\u4f7f\\u7528\",\"x\":[1,2,3,4,5,6,7,8,9,10,11,12,13,14,15,16,17,18,19,20,21,22,23,24,25,26,27,28,29,30,31,32,33,34,35,36,37,38,39,40,41,42,43,44,45,46,47,48,49,50,51,52],\"y\":[128.0,136.0,128.0,135.0,91.0,78.0,131.0,126.0,136.0,161.0,173.0,189.0,125.0,68.0,140.0,114.0,164.0,103.0,147.0,131.0,134.0,109.0,113.0,124.0,133.0,127.0,143.0,107.0,128.0,153.0,110.0,141.0,190.0,86.0,123.0,202.0,141.0,111.0,90.0,124.0,151.0,114.0,164.0,110.0,84.0,130.0,146.0,126.0,118.0,101.0,122.0,147.0],\"type\":\"scatter\"},{\"line\":{\"color\":\"#ff7f0e\"},\"mode\":\"lines\",\"name\":\"2020\\u4f7f\\u7528\",\"x\":[1,2,3,4,5,6,7,8,9,10,11,12,13,14,15,16,17,18,19,20,21,22,23,24,25,26,27,28,29,30,31,32,33,34,35,36,37,38,39,40,41,42,43,44,45,46,47,48,49,50,51,52],\"y\":[62.0,96.0,79.0,41.0,23.0,150.0,148.0,151.0,105.0,93.0,156.0,164.0,139.0,114.0,149.0,157.0,94.0,106.0,71.0,90.0,83.0,102.0,118.0,163.0,189.0,131.0,144.0,114.0,142.0,160.0,136.0,173.0,168.0,187.0,186.0,130.0,142.0,163.0,208.0,151.0,118.0,166.0,162.0,162.0,197.0,125.0,192.0,160.0,132.0,126.0,175.0,179.0],\"type\":\"scatter\"},{\"line\":{\"color\":\"#ff0e16\"},\"mode\":\"lines\",\"name\":\"2021\",\"x\":[1,2,3,4,5,6,7,8,9,10,11,12,13,14,15,16,17,18,19,20,21,22,23,24,25,26,27,28,29,30,31,32,33,34,35,36,37,38,39,40,41,42,43,44,45,46,47,48,49,50,51,52],\"y\":[162.0,160.0,103.0,127.0,135.0,15.0,98.0,189.0,154.0,149.0,170.0,139.0,112.0,141.0,124.0,107.0,149.0,179.0,128.0,110.0,114.0,131.0,118.0,67.0,91.0,104.0,173.0,195.0,142.0,158.0,174.0,168.0,113.0,118.0,139.0,168.0,199.0,141.0,224.0,104.0,117.0,101.0,153.0,165.0,113.0,81.0,156.0,147.0,101.0,113.0,176.0,110.0],\"type\":\"scatter\"}],                        {\"template\":{\"data\":{\"histogram2dcontour\":[{\"type\":\"histogram2dcontour\",\"colorbar\":{\"outlinewidth\":0,\"ticks\":\"\"},\"colorscale\":[[0.0,\"#0d0887\"],[0.1111111111111111,\"#46039f\"],[0.2222222222222222,\"#7201a8\"],[0.3333333333333333,\"#9c179e\"],[0.4444444444444444,\"#bd3786\"],[0.5555555555555556,\"#d8576b\"],[0.6666666666666666,\"#ed7953\"],[0.7777777777777778,\"#fb9f3a\"],[0.8888888888888888,\"#fdca26\"],[1.0,\"#f0f921\"]]}],\"choropleth\":[{\"type\":\"choropleth\",\"colorbar\":{\"outlinewidth\":0,\"ticks\":\"\"}}],\"histogram2d\":[{\"type\":\"histogram2d\",\"colorbar\":{\"outlinewidth\":0,\"ticks\":\"\"},\"colorscale\":[[0.0,\"#0d0887\"],[0.1111111111111111,\"#46039f\"],[0.2222222222222222,\"#7201a8\"],[0.3333333333333333,\"#9c179e\"],[0.4444444444444444,\"#bd3786\"],[0.5555555555555556,\"#d8576b\"],[0.6666666666666666,\"#ed7953\"],[0.7777777777777778,\"#fb9f3a\"],[0.8888888888888888,\"#fdca26\"],[1.0,\"#f0f921\"]]}],\"heatmap\":[{\"type\":\"heatmap\",\"colorbar\":{\"outlinewidth\":0,\"ticks\":\"\"},\"colorscale\":[[0.0,\"#0d0887\"],[0.1111111111111111,\"#46039f\"],[0.2222222222222222,\"#7201a8\"],[0.3333333333333333,\"#9c179e\"],[0.4444444444444444,\"#bd3786\"],[0.5555555555555556,\"#d8576b\"],[0.6666666666666666,\"#ed7953\"],[0.7777777777777778,\"#fb9f3a\"],[0.8888888888888888,\"#fdca26\"],[1.0,\"#f0f921\"]]}],\"heatmapgl\":[{\"type\":\"heatmapgl\",\"colorbar\":{\"outlinewidth\":0,\"ticks\":\"\"},\"colorscale\":[[0.0,\"#0d0887\"],[0.1111111111111111,\"#46039f\"],[0.2222222222222222,\"#7201a8\"],[0.3333333333333333,\"#9c179e\"],[0.4444444444444444,\"#bd3786\"],[0.5555555555555556,\"#d8576b\"],[0.6666666666666666,\"#ed7953\"],[0.7777777777777778,\"#fb9f3a\"],[0.8888888888888888,\"#fdca26\"],[1.0,\"#f0f921\"]]}],\"contourcarpet\":[{\"type\":\"contourcarpet\",\"colorbar\":{\"outlinewidth\":0,\"ticks\":\"\"}}],\"contour\":[{\"type\":\"contour\",\"colorbar\":{\"outlinewidth\":0,\"ticks\":\"\"},\"colorscale\":[[0.0,\"#0d0887\"],[0.1111111111111111,\"#46039f\"],[0.2222222222222222,\"#7201a8\"],[0.3333333333333333,\"#9c179e\"],[0.4444444444444444,\"#bd3786\"],[0.5555555555555556,\"#d8576b\"],[0.6666666666666666,\"#ed7953\"],[0.7777777777777778,\"#fb9f3a\"],[0.8888888888888888,\"#fdca26\"],[1.0,\"#f0f921\"]]}],\"surface\":[{\"type\":\"surface\",\"colorbar\":{\"outlinewidth\":0,\"ticks\":\"\"},\"colorscale\":[[0.0,\"#0d0887\"],[0.1111111111111111,\"#46039f\"],[0.2222222222222222,\"#7201a8\"],[0.3333333333333333,\"#9c179e\"],[0.4444444444444444,\"#bd3786\"],[0.5555555555555556,\"#d8576b\"],[0.6666666666666666,\"#ed7953\"],[0.7777777777777778,\"#fb9f3a\"],[0.8888888888888888,\"#fdca26\"],[1.0,\"#f0f921\"]]}],\"mesh3d\":[{\"type\":\"mesh3d\",\"colorbar\":{\"outlinewidth\":0,\"ticks\":\"\"}}],\"scatter\":[{\"fillpattern\":{\"fillmode\":\"overlay\",\"size\":10,\"solidity\":0.2},\"type\":\"scatter\"}],\"parcoords\":[{\"type\":\"parcoords\",\"line\":{\"colorbar\":{\"outlinewidth\":0,\"ticks\":\"\"}}}],\"scatterpolargl\":[{\"type\":\"scatterpolargl\",\"marker\":{\"colorbar\":{\"outlinewidth\":0,\"ticks\":\"\"}}}],\"bar\":[{\"error_x\":{\"color\":\"#2a3f5f\"},\"error_y\":{\"color\":\"#2a3f5f\"},\"marker\":{\"line\":{\"color\":\"#E5ECF6\",\"width\":0.5},\"pattern\":{\"fillmode\":\"overlay\",\"size\":10,\"solidity\":0.2}},\"type\":\"bar\"}],\"scattergeo\":[{\"type\":\"scattergeo\",\"marker\":{\"colorbar\":{\"outlinewidth\":0,\"ticks\":\"\"}}}],\"scatterpolar\":[{\"type\":\"scatterpolar\",\"marker\":{\"colorbar\":{\"outlinewidth\":0,\"ticks\":\"\"}}}],\"histogram\":[{\"marker\":{\"pattern\":{\"fillmode\":\"overlay\",\"size\":10,\"solidity\":0.2}},\"type\":\"histogram\"}],\"scattergl\":[{\"type\":\"scattergl\",\"marker\":{\"colorbar\":{\"outlinewidth\":0,\"ticks\":\"\"}}}],\"scatter3d\":[{\"type\":\"scatter3d\",\"line\":{\"colorbar\":{\"outlinewidth\":0,\"ticks\":\"\"}},\"marker\":{\"colorbar\":{\"outlinewidth\":0,\"ticks\":\"\"}}}],\"scattermapbox\":[{\"type\":\"scattermapbox\",\"marker\":{\"colorbar\":{\"outlinewidth\":0,\"ticks\":\"\"}}}],\"scatterternary\":[{\"type\":\"scatterternary\",\"marker\":{\"colorbar\":{\"outlinewidth\":0,\"ticks\":\"\"}}}],\"scattercarpet\":[{\"type\":\"scattercarpet\",\"marker\":{\"colorbar\":{\"outlinewidth\":0,\"ticks\":\"\"}}}],\"carpet\":[{\"aaxis\":{\"endlinecolor\":\"#2a3f5f\",\"gridcolor\":\"white\",\"linecolor\":\"white\",\"minorgridcolor\":\"white\",\"startlinecolor\":\"#2a3f5f\"},\"baxis\":{\"endlinecolor\":\"#2a3f5f\",\"gridcolor\":\"white\",\"linecolor\":\"white\",\"minorgridcolor\":\"white\",\"startlinecolor\":\"#2a3f5f\"},\"type\":\"carpet\"}],\"table\":[{\"cells\":{\"fill\":{\"color\":\"#EBF0F8\"},\"line\":{\"color\":\"white\"}},\"header\":{\"fill\":{\"color\":\"#C8D4E3\"},\"line\":{\"color\":\"white\"}},\"type\":\"table\"}],\"barpolar\":[{\"marker\":{\"line\":{\"color\":\"#E5ECF6\",\"width\":0.5},\"pattern\":{\"fillmode\":\"overlay\",\"size\":10,\"solidity\":0.2}},\"type\":\"barpolar\"}],\"pie\":[{\"automargin\":true,\"type\":\"pie\"}]},\"layout\":{\"autotypenumbers\":\"strict\",\"colorway\":[\"#636efa\",\"#EF553B\",\"#00cc96\",\"#ab63fa\",\"#FFA15A\",\"#19d3f3\",\"#FF6692\",\"#B6E880\",\"#FF97FF\",\"#FECB52\"],\"font\":{\"color\":\"#2a3f5f\"},\"hovermode\":\"closest\",\"hoverlabel\":{\"align\":\"left\"},\"paper_bgcolor\":\"white\",\"plot_bgcolor\":\"#E5ECF6\",\"polar\":{\"bgcolor\":\"#E5ECF6\",\"angularaxis\":{\"gridcolor\":\"white\",\"linecolor\":\"white\",\"ticks\":\"\"},\"radialaxis\":{\"gridcolor\":\"white\",\"linecolor\":\"white\",\"ticks\":\"\"}},\"ternary\":{\"bgcolor\":\"#E5ECF6\",\"aaxis\":{\"gridcolor\":\"white\",\"linecolor\":\"white\",\"ticks\":\"\"},\"baxis\":{\"gridcolor\":\"white\",\"linecolor\":\"white\",\"ticks\":\"\"},\"caxis\":{\"gridcolor\":\"white\",\"linecolor\":\"white\",\"ticks\":\"\"}},\"coloraxis\":{\"colorbar\":{\"outlinewidth\":0,\"ticks\":\"\"}},\"colorscale\":{\"sequential\":[[0.0,\"#0d0887\"],[0.1111111111111111,\"#46039f\"],[0.2222222222222222,\"#7201a8\"],[0.3333333333333333,\"#9c179e\"],[0.4444444444444444,\"#bd3786\"],[0.5555555555555556,\"#d8576b\"],[0.6666666666666666,\"#ed7953\"],[0.7777777777777778,\"#fb9f3a\"],[0.8888888888888888,\"#fdca26\"],[1.0,\"#f0f921\"]],\"sequentialminus\":[[0.0,\"#0d0887\"],[0.1111111111111111,\"#46039f\"],[0.2222222222222222,\"#7201a8\"],[0.3333333333333333,\"#9c179e\"],[0.4444444444444444,\"#bd3786\"],[0.5555555555555556,\"#d8576b\"],[0.6666666666666666,\"#ed7953\"],[0.7777777777777778,\"#fb9f3a\"],[0.8888888888888888,\"#fdca26\"],[1.0,\"#f0f921\"]],\"diverging\":[[0,\"#8e0152\"],[0.1,\"#c51b7d\"],[0.2,\"#de77ae\"],[0.3,\"#f1b6da\"],[0.4,\"#fde0ef\"],[0.5,\"#f7f7f7\"],[0.6,\"#e6f5d0\"],[0.7,\"#b8e186\"],[0.8,\"#7fbc41\"],[0.9,\"#4d9221\"],[1,\"#276419\"]]},\"xaxis\":{\"gridcolor\":\"white\",\"linecolor\":\"white\",\"ticks\":\"\",\"title\":{\"standoff\":15},\"zerolinecolor\":\"white\",\"automargin\":true,\"zerolinewidth\":2},\"yaxis\":{\"gridcolor\":\"white\",\"linecolor\":\"white\",\"ticks\":\"\",\"title\":{\"standoff\":15},\"zerolinecolor\":\"white\",\"automargin\":true,\"zerolinewidth\":2},\"scene\":{\"xaxis\":{\"backgroundcolor\":\"#E5ECF6\",\"gridcolor\":\"white\",\"linecolor\":\"white\",\"showbackground\":true,\"ticks\":\"\",\"zerolinecolor\":\"white\",\"gridwidth\":2},\"yaxis\":{\"backgroundcolor\":\"#E5ECF6\",\"gridcolor\":\"white\",\"linecolor\":\"white\",\"showbackground\":true,\"ticks\":\"\",\"zerolinecolor\":\"white\",\"gridwidth\":2},\"zaxis\":{\"backgroundcolor\":\"#E5ECF6\",\"gridcolor\":\"white\",\"linecolor\":\"white\",\"showbackground\":true,\"ticks\":\"\",\"zerolinecolor\":\"white\",\"gridwidth\":2}},\"shapedefaults\":{\"line\":{\"color\":\"#2a3f5f\"}},\"annotationdefaults\":{\"arrowcolor\":\"#2a3f5f\",\"arrowhead\":0,\"arrowwidth\":1},\"geo\":{\"bgcolor\":\"white\",\"landcolor\":\"#E5ECF6\",\"subunitcolor\":\"white\",\"showland\":true,\"showlakes\":true,\"lakecolor\":\"white\"},\"title\":{\"x\":0.05},\"mapbox\":{\"style\":\"light\"}}},\"font\":{\"size\":18},\"yaxis\":{\"title\":{\"text\":\"\\u7528\\u91cf\"}},\"xaxis\":{\"title\":{\"text\":\"\\u65e5\\u671f\"},\"nticks\":52},\"title\":{\"text\":\"2019 VS 2020 VS 2021\"},\"height\":450,\"width\":1500},                        {\"responsive\": true}                    ).then(function(){\n",
       "                            \n",
       "var gd = document.getElementById('4cacdd14-62b0-4f7b-acc3-c2d80b2b5e60');\n",
       "var x = new MutationObserver(function (mutations, observer) {{\n",
       "        var display = window.getComputedStyle(gd).display;\n",
       "        if (!display || display === 'none') {{\n",
       "            console.log([gd, 'removed!']);\n",
       "            Plotly.purge(gd);\n",
       "            observer.disconnect();\n",
       "        }}\n",
       "}});\n",
       "\n",
       "// Listen for the removal of the full notebook cells\n",
       "var notebookContainer = gd.closest('#notebook-container');\n",
       "if (notebookContainer) {{\n",
       "    x.observe(notebookContainer, {childList: true});\n",
       "}}\n",
       "\n",
       "// Listen for the clearing of the current output cell\n",
       "var outputEl = gd.closest('.output');\n",
       "if (outputEl) {{\n",
       "    x.observe(outputEl, {childList: true});\n",
       "}}\n",
       "\n",
       "                        })                };                });            </script>        </div>"
      ]
     },
     "metadata": {},
     "output_type": "display_data"
    }
   ],
   "source": [
    "line_color = [\n",
    "    '#1f77b4',  # muted blue\n",
    "    '#ff7f0e',  # safety orange\n",
    "    '#2ca02c',  # cooked asparagus green\n",
    "    '#d62728',  # brick red\n",
    "    '#9467bd',  # muted purple\n",
    "    '#8c564b',  # chestnut brown\n",
    "    '#e377c2',  # raspberry yogurt pink\n",
    "    '#7f7f7f',  # middle gray\n",
    "    '#bcbd22',  # curry yellow-green\n",
    "    '#17becf'   # blue-teal\n",
    "]\n",
    "x_axis = part_no_data['週'].values[0]\n",
    "\n",
    "# xtick = int(len(test_data['TIME_TO_INTERVAL'])/96)\n",
    "\n",
    "fig_line = go.Figure()\n",
    "fig_line.add_trace(go.Scatter(y = part_no_2019data['數量'], x=part_no_2019data['週'],\n",
    "                    mode='lines',\n",
    "                    name='2019使用',\n",
    "                    line={'dash': 'dash'},\n",
    "                    line_color= '#1f77b4'))\n",
    "fig_line.add_trace(go.Scatter(y = part_no_2020data['數量'], x=part_no_2019data['週'],\n",
    "                    mode='lines',\n",
    "                    name='2020使用',\n",
    "                    line_color= '#ff7f0e'))\n",
    "fig_line.add_trace(go.Scatter(y = part_no_2021data['數量'], x=part_no_2019data['週'],\n",
    "                    mode='lines',\n",
    "                    name='2021使用',\n",
    "                    line_color= '#ff0e16'))\n",
    "fig_line.update_layout(\n",
    "    yaxis_title='用量',\n",
    "    xaxis_title='日期',\n",
    "    title='2019 VS 2020 VS 2021',\n",
    "    font=dict(\n",
    "        size=18,\n",
    "    ),\n",
    "#     yaxis2=dict(anchor='x', overlaying='y', side='right')\n",
    "    height=450, \n",
    "    width=1500,\n",
    "\n",
    ")\n",
    "\n",
    "fig_line.update_xaxes(nticks=52)\n",
    "\n",
    "\n",
    "#     fig_line.write_html(f'{folder_path}/img/{methods}_{i}.html')\n",
    "\n",
    "fig_line.show()"
   ]
  },
  {
   "cell_type": "code",
   "execution_count": 6,
   "id": "bb07922d",
   "metadata": {},
   "outputs": [
    {
     "data": {
      "image/png": "[encoded data removed]",
      "text/plain": [
       "<Figure size 640x480 with 1 Axes>"
      ]
     },
     "metadata": {},
     "output_type": "display_data"
    }
   ],
   "source": [
    "import matplotlib.pyplot as plt\n",
    "import pandas as pd \n",
    "\n",
    "# 加入XY資料\n",
    "x = [1, 2, 3, 4]\n",
    "y = [4, 8, 12, 16]\n",
    "plt.plot(x, y) # 放入XY資料\n",
    "plt.show()\n"
   ]
  },
  {
   "cell_type": "code",
   "execution_count": null,
   "id": "aa9df820",
   "metadata": {},
   "outputs": [],
   "source": []
  }
 ],
 "metadata": {
  "kernelspec": {
   "display_name": "Python 3 (ipykernel)",
   "language": "python",
   "name": "python3"
  },
  "language_info": {
   "codemirror_mode": {
    "name": "ipython",
    "version": 3
   },
   "file_extension": ".py",
   "mimetype": "text/x-python",
   "name": "python",
   "nbconvert_exporter": "python",
   "pygments_lexer": "ipython3",
   "version": "3.8.13"
  }
 },
 "nbformat": 4,
 "nbformat_minor": 5
}
