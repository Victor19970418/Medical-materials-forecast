{
 "cells": [
  {
   "cell_type": "code",
   "execution_count": 1,
   "id": "f239ef35",
   "metadata": {},
   "outputs": [],
   "source": [
    "import pandas as pd\n",
    "import os\n",
    "from collections import Counter"
   ]
  },
  {
   "cell_type": "code",
   "execution_count": null,
   "id": "e9a22669",
   "metadata": {},
   "outputs": [],
   "source": [
    "# 月份\n",
    "months = [1,2,3,4,5,6,7,8,9,10,11,12]\n",
    "# 年分\n",
    "years = [108,109,110]\n",
    "# 料號\n",
    "part_no = 'B07109004'\n",
    "\n",
    "\n",
    "for year in years:\n",
    "    for month in months:\n",
    "        #     每個月分的所有資料\n",
    "            temp =  pd.DataFrame()\n",
    "            # sheet_name控制開起的頁面\n",
    "\n",
    "    #         temp=pd.read_excel(f\"../成大醫院物料預測/2019~2021庫存/{year}年度病房衛材帳務日期/{year}年衛材批價明細(帳務日期)-{room}.xlsx\",sheet_name = f'{month}月',skiprows=2,index_col=0)\n",
    "            temp=pd.read_excel(f\"../成大醫院物料預測/2019~2021庫存/{year}年度病房出入庫日報表/{year}年度出入庫日報表-{room}.xlsx\",sheet_name = f'{month}月',index_col=0)\n",
    "        #         total_data=pd.read_excel(f\"../成大醫院物料預測/2019~2021庫存/{year}年度病房衛材帳務日期/{year}年衛材批價明細(帳務日期)-{room}.xlsx\",sheet_name = f'{month}月',index_col=0)\n",
    "            temp = temp[temp.columns.drop(list(temp.filter(regex='Unnamed')))]\n",
    "            temp = temp[temp[\"料號\"] ==pat_no]\n",
    "            total_data = pd.concat([total_data, temp])\n",
    "\n",
    "        # 只刪除日期是空值的\n",
    "        print(total_data.index)\n",
    "        total_data.reset_index(inplace=True)\n",
    "        total_data = total_data.rename(columns = {'index':'日期'})\n",
    "        total_data = total_data.dropna(subset=[\"日期\"])\n",
    "\n",
    "\n",
    "\n",
    "        # 加入週的欄位\n",
    "        total_data[\"日期\"] = pd.to_datetime(total_data[\"日期\"] ,format='%Y/%m/%d')\n",
    "        total_data['週'] = total_data['日期'].dt.isocalendar().week\n",
    "final_data =  pd.concat([final_data, total_data])\n",
    "# 全部資料合併"
   ]
  }
 ],
 "metadata": {
  "kernelspec": {
   "display_name": "Python 3 (ipykernel)",
   "language": "python",
   "name": "python3"
  },
  "language_info": {
   "codemirror_mode": {
    "name": "ipython",
    "version": 3
   },
   "file_extension": ".py",
   "mimetype": "text/x-python",
   "name": "python",
   "nbconvert_exporter": "python",
   "pygments_lexer": "ipython3",
   "version": "3.8.13"
  }
 },
 "nbformat": 4,
 "nbformat_minor": 5
}
