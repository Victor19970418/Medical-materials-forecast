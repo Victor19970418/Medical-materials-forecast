{
 "cells": [
  {
   "cell_type": "markdown",
   "id": "24eb1eea",
   "metadata": {},
   "source": [
    "引用"
   ]
  },
  {
   "cell_type": "code",
   "execution_count": 2,
   "id": "9835fe52",
   "metadata": {},
   "outputs": [],
   "source": [
    "import datetime\n",
    "from chinese_calendar import is_workday\n",
    "import pandas as pd\n",
    "import os"
   ]
  },
  {
   "cell_type": "markdown",
   "id": "3d4bbdf5",
   "metadata": {},
   "source": [
    "讀取要整理的檔案+新增是否為工作日的欄位"
   ]
  },
  {
   "cell_type": "code",
   "execution_count": 20,
   "id": "5cf3bad2",
   "metadata": {},
   "outputs": [],
   "source": [
    "#年分\n",
    "years = [2019,2020,2021]\n",
    "# 病房\n",
    "room = '呼吸照護病房'\n",
    "# 讀取資料\n",
    "for year in years: \n",
    "    total_data=pd.read_csv(f\"./全部資料合併/{year}_{room}_合併檔.csv\")\n",
    "    total_data[\"帳務日期\"] = pd.to_datetime(total_data[\"帳務日期\"] ,format='%Y/%m/%d')\n",
    "    # 如果是工作日就存成true，否則存成false\n",
    "    total_data['工作日']=total_data['帳務日期'].map(lambda x:is_workday(x))\n",
    "\n",
    "    total_data.to_csv(f\"./全部資料合併/{year}_{room}_合併檔.csv\",encoding='utf_8_sig') "
   ]
  },
  {
   "cell_type": "markdown",
   "id": "3da2c9a1",
   "metadata": {},
   "source": [
    "新增是否為工作日的欄位"
   ]
  },
  {
   "cell_type": "code",
   "execution_count": 5,
   "id": "bad06412",
   "metadata": {},
   "outputs": [
    {
     "name": "stdout",
     "output_type": "stream",
     "text": [
      "是休息日\n"
     ]
    }
   ],
   "source": [
    "date = datetime.datetime(2020, 8, 9)\n",
    "# date = datetime.datetime.now().date()\n",
    "if is_workday(date):\n",
    "  print(\"是工作日\")\n",
    "else:\n",
    "  print(\"是休息日\")"
   ]
  },
  {
   "cell_type": "code",
   "execution_count": null,
   "id": "99366246",
   "metadata": {},
   "outputs": [],
   "source": []
  }
 ],
 "metadata": {
  "kernelspec": {
   "display_name": "Python 3 (ipykernel)",
   "language": "python",
   "name": "python3"
  },
  "language_info": {
   "codemirror_mode": {
    "name": "ipython",
    "version": 3
   },
   "file_extension": ".py",
   "mimetype": "text/x-python",
   "name": "python",
   "nbconvert_exporter": "python",
   "pygments_lexer": "ipython3",
   "version": "3.8.13"
  }
 },
 "nbformat": 4,
 "nbformat_minor": 5
}
