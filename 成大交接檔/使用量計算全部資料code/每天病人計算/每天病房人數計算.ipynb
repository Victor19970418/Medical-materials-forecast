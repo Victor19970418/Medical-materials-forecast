{
 "cells": [
  {
   "cell_type": "code",
   "execution_count": 1,
   "id": "3bdd2ba1",
   "metadata": {},
   "outputs": [],
   "source": [
    "import pandas as pd\n",
    "import os\n"
   ]
  },
  {
   "cell_type": "markdown",
   "id": "168c53be",
   "metadata": {},
   "source": [
    "讀取過濾後資料"
   ]
  },
  {
   "cell_type": "code",
   "execution_count": 11,
   "id": "5c446472",
   "metadata": {},
   "outputs": [],
   "source": [
    "time = 1\n",
    "for filename in os.listdir(f\"./過濾後資料\"):\n",
    "    data=pd.read_csv(f'./過濾後資料/{filename}')\n",
    "    data = data[data.columns.drop(list(data.filter(regex='Unnamed')))]\n",
    "    data.drop_duplicates(inplace=True)\n",
    "    data.to_csv(f\"./五病房_{time}.csv\",encoding='utf_8_sig') \n",
    "    time = time + 1"
   ]
  },
  {
   "cell_type": "code",
   "execution_count": 12,
   "id": "3206f3af",
   "metadata": {},
   "outputs": [
    {
     "data": {
      "text/plain": [
       "6177"
      ]
     },
     "execution_count": 12,
     "metadata": {},
     "output_type": "execute_result"
    }
   ],
   "source": [
    "len(data)"
   ]
  },
  {
   "cell_type": "code",
   "execution_count": 13,
   "id": "6b88d04b",
   "metadata": {},
   "outputs": [
    {
     "data": {
      "text/html": [
       "<div>\n",
       "<style scoped>\n",
       "    .dataframe tbody tr th:only-of-type {\n",
       "        vertical-align: middle;\n",
       "    }\n",
       "\n",
       "    .dataframe tbody tr th {\n",
       "        vertical-align: top;\n",
       "    }\n",
       "\n",
       "    .dataframe thead th {\n",
       "        text-align: right;\n",
       "    }\n",
       "</style>\n",
       "<table border=\"1\" class=\"dataframe\">\n",
       "  <thead>\n",
       "    <tr style=\"text-align: right;\">\n",
       "      <th></th>\n",
       "      <th>sickroom</th>\n",
       "      <th>date</th>\n",
       "    </tr>\n",
       "  </thead>\n",
       "  <tbody>\n",
       "    <tr>\n",
       "      <th>0</th>\n",
       "      <td>D1506</td>\n",
       "      <td>2021-11-05</td>\n",
       "    </tr>\n",
       "    <tr>\n",
       "      <th>1</th>\n",
       "      <td>D1506</td>\n",
       "      <td>2021-11-04</td>\n",
       "    </tr>\n",
       "    <tr>\n",
       "      <th>4</th>\n",
       "      <td>D1506</td>\n",
       "      <td>2021-11-07</td>\n",
       "    </tr>\n",
       "    <tr>\n",
       "      <th>5</th>\n",
       "      <td>D1506</td>\n",
       "      <td>2021-11-06</td>\n",
       "    </tr>\n",
       "    <tr>\n",
       "      <th>6</th>\n",
       "      <td>D1506</td>\n",
       "      <td>2021-11-08</td>\n",
       "    </tr>\n",
       "    <tr>\n",
       "      <th>...</th>\n",
       "      <td>...</td>\n",
       "      <td>...</td>\n",
       "    </tr>\n",
       "    <tr>\n",
       "      <th>137327</th>\n",
       "      <td>D15263</td>\n",
       "      <td>2021-11-11</td>\n",
       "    </tr>\n",
       "    <tr>\n",
       "      <th>137349</th>\n",
       "      <td>D15263</td>\n",
       "      <td>2021-07-12</td>\n",
       "    </tr>\n",
       "    <tr>\n",
       "      <th>137575</th>\n",
       "      <td>D15263</td>\n",
       "      <td>2021-12-17</td>\n",
       "    </tr>\n",
       "    <tr>\n",
       "      <th>138618</th>\n",
       "      <td>D15253</td>\n",
       "      <td>2021-08-27</td>\n",
       "    </tr>\n",
       "    <tr>\n",
       "      <th>138679</th>\n",
       "      <td>D1501</td>\n",
       "      <td>2021-07-18</td>\n",
       "    </tr>\n",
       "  </tbody>\n",
       "</table>\n",
       "<p>6177 rows × 2 columns</p>\n",
       "</div>"
      ],
      "text/plain": [
       "       sickroom        date\n",
       "0        D1506   2021-11-05\n",
       "1        D1506   2021-11-04\n",
       "4        D1506   2021-11-07\n",
       "5        D1506   2021-11-06\n",
       "6        D1506   2021-11-08\n",
       "...         ...         ...\n",
       "137327   D15263  2021-11-11\n",
       "137349   D15263  2021-07-12\n",
       "137575   D15263  2021-12-17\n",
       "138618   D15253  2021-08-27\n",
       "138679   D1501   2021-07-18\n",
       "\n",
       "[6177 rows x 2 columns]"
      ]
     },
     "execution_count": 13,
     "metadata": {},
     "output_type": "execute_result"
    }
   ],
   "source": [
    "data"
   ]
  },
  {
   "cell_type": "code",
   "execution_count": null,
   "id": "05fd80eb",
   "metadata": {},
   "outputs": [],
   "source": []
  }
 ],
 "metadata": {
  "kernelspec": {
   "display_name": "Python 3 (ipykernel)",
   "language": "python",
   "name": "python3"
  },
  "language_info": {
   "codemirror_mode": {
    "name": "ipython",
    "version": 3
   },
   "file_extension": ".py",
   "mimetype": "text/x-python",
   "name": "python",
   "nbconvert_exporter": "python",
   "pygments_lexer": "ipython3",
   "version": "3.8.13"
  }
 },
 "nbformat": 4,
 "nbformat_minor": 5
}
