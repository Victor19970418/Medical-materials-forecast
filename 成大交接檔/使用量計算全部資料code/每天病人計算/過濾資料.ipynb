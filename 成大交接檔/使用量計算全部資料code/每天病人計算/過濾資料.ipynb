{
 "cells": [
  {
   "cell_type": "code",
   "execution_count": 1,
   "id": "2fd4f192",
   "metadata": {},
   "outputs": [],
   "source": [
    "import pandas as pd\n",
    "import os\n"
   ]
  },
  {
   "cell_type": "markdown",
   "id": "059fcc37",
   "metadata": {},
   "source": [
    "先讀取執行的醫囑"
   ]
  },
  {
   "cell_type": "code",
   "execution_count": 9,
   "id": "8c853f31",
   "metadata": {
    "scrolled": true
   },
   "outputs": [
    {
     "name": "stdout",
     "output_type": "stream",
     "text": [
      "20220927T062025Z-001.zip\n",
      "125710\n"
     ]
    },
    {
     "name": "stderr",
     "output_type": "stream",
     "text": [
      "C:\\Users\\IDSL\\AppData\\Local\\Temp\\ipykernel_19980\\3931783663.py:7: DtypeWarning: Columns (4) have mixed types. Specify dtype option on import or set low_memory=False.\n",
      "  data=pd.read_csv(f\"../../成大醫院物料預測/2019~2021醫囑/{filename}\",on_bad_lines='skip',header=None,\n"
     ]
    },
    {
     "name": "stdout",
     "output_type": "stream",
     "text": [
      "128646\n",
      "130847\n",
      "145595\n",
      "128297\n",
      "138861\n"
     ]
    }
   ],
   "source": [
    "time = 1;\n",
    "# 20220927T062025Z-001.zip\n",
    "for filename in os.listdir(f\"../../成大醫院物料預測/2019~2021醫囑\"):\n",
    "    if filename=='20220927T062025Z-001.zip' or  filename == '.ipynb_checkpoints':\n",
    "        print(filename)\n",
    "        continue    \n",
    "    data=pd.read_csv(f\"../../成大醫院物料預測/2019~2021醫囑/{filename}\",on_bad_lines='skip',header=None, \n",
    "                     names=['sickroom','date','execution','code','part_num','frequency','處置套裝','Unnamed'])\n",
    "    # 取出五病房的資料\n",
    "    filt = data['sickroom'].str.contains('D15', na=False)\n",
    "    data = data.loc[filt, ['sickroom','date']]\n",
    "    data['date'] = pd.to_datetime(data['date'].str.strip(), format=\"%Y-%m-%d\")\n",
    "    data['date'] = data['date'].dt.date\n",
    "    data = data.loc[filt, ['sickroom','date']]\n",
    "    print(len(data))\n",
    "    data.to_csv(f\"./五病房_{time}.csv\",encoding='utf_8_sig') \n",
    "    time = time + 1"
   ]
  },
  {
   "cell_type": "code",
   "execution_count": null,
   "id": "53c7db23",
   "metadata": {},
   "outputs": [],
   "source": []
  }
 ],
 "metadata": {
  "kernelspec": {
   "display_name": "Python 3 (ipykernel)",
   "language": "python",
   "name": "python3"
  },
  "language_info": {
   "codemirror_mode": {
    "name": "ipython",
    "version": 3
   },
   "file_extension": ".py",
   "mimetype": "text/x-python",
   "name": "python",
   "nbconvert_exporter": "python",
   "pygments_lexer": "ipython3",
   "version": "3.8.13"
  }
 },
 "nbformat": 4,
 "nbformat_minor": 5
}
