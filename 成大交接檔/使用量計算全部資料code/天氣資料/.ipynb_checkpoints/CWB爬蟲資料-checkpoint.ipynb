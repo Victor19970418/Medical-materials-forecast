{
 "cells": [
  {
   "cell_type": "code",
   "execution_count": 1,
   "id": "9d119861",
   "metadata": {},
   "outputs": [],
   "source": [
    "import urllib.request as req\n",
    "import json \n",
    "import pandas as pd\n",
    "import matplotlib.pylab as plt\n",
    "import numpy as np\n",
    "from datetime import timedelta\n",
    "import requests\n",
    "from bs4 import BeautifulSoup\n",
    "import time\n",
    "import datetime"
   ]
  },
  {
   "cell_type": "markdown",
   "id": "0bcf8666",
   "metadata": {},
   "source": [
    "抓取CWB觀測資料\n",
    "https://e-service.cwb.gov.tw/HistoryDataQuery/index.jsp"
   ]
  },
  {
   "cell_type": "code",
   "execution_count": 2,
   "id": "d95d0274",
   "metadata": {},
   "outputs": [],
   "source": [
    "stations = [\"斗六\"]"
   ]
  },
  {
   "cell_type": "code",
   "execution_count": 3,
   "id": "24bb0e79",
   "metadata": {},
   "outputs": [],
   "source": [
    "def crawler_obs_data(start, end):\n",
    "    dates = [d.strftime('%Y-%m-%d')for d in pd.date_range(start, end)]\n",
    "    for i in range(len(stations)):\n",
    "        staID = \"C0K400\"\n",
    "        staName = \"斗六\"\n",
    "        print(staID)\n",
    "        data = pd.DataFrame()\n",
    "        for date in dates:\n",
    "            print(date)\n",
    "            url = f'https://e-service.cwb.gov.tw/HistoryDataQuery/DayDataController.do?command=viewMain&station={staID}&stname={staID}&datepicker={date}&altitude=65m'\n",
    "            print(url)\n",
    "            headers = {'user-agent': 'Mozilla/5.0 (Windows NT 20.0; Win64; x64) AppleWebKit/538.36 (KHTML, like Gecko) Chrome/86.0.3809.132 Safari/537.36'}\n",
    "            html = requests.get(url, headers=headers)\n",
    "            html.encoding = 'utf-8'\n",
    "            soup = BeautifulSoup(html.text, 'html.parser')\n",
    "            # find no data page\n",
    "            error = soup.find(\"label\", class_=\"imp\")\n",
    "\n",
    "            form =[]\n",
    "\n",
    "            # title\n",
    "            titles = soup.find_all(\"th\")\n",
    "            # titles = titles[11:28]\n",
    "            titles = titles[28:46]\n",
    "            strtitle=[]\n",
    "            for title in titles:\n",
    "                title = title.contents\n",
    "                title=title[0] #+title[2]+title[4]\n",
    "                strtitle.append(title)\n",
    "\n",
    "            # parameter\n",
    "            soup = soup.tbody\n",
    "            tmps = soup.find_all(\"tr\")\n",
    "            tmps = tmps[3:]\n",
    "            for tmp in tmps:\n",
    "                tmp = tmp.find_all(\"td\")\n",
    "                parameter =[]\n",
    "                for strtmp in tmp:\n",
    "                    strtmp = ''.join(filter(lambda x: (x.isdigit() or x == '.'  or x == 'T'), strtmp.string))\n",
    "                    parameter.append(strtmp)\n",
    "                form.append(parameter)\n",
    "\n",
    "            form = pd.DataFrame(form, columns=strtitle)\n",
    "            form['date'] = date\n",
    "            data = pd.concat([data,form], axis=0)\n",
    "            data = data.reset_index(drop=True)\n",
    "        old = pd.read_csv(f'./Observation_CWB/{staID}.csv')\n",
    "        d = pd.concat([old, data], axis=0, ignore_index=True)\n",
    "        d = d.drop_duplicates(subset=['ObsTime', 'date'], keep='last')\n",
    "        d.to_csv(f'./Observation_CWB/{staID}.csv', index=None)"
   ]
  },
  {
   "cell_type": "code",
   "execution_count": 4,
   "id": "1c45af30",
   "metadata": {},
   "outputs": [
    {
     "name": "stdout",
     "output_type": "stream",
     "text": [
      "C0K400\n",
      "2019-01-01\n",
      "https://e-service.cwb.gov.tw/HistoryDataQuery/DayDataController.do?command=viewMain&station=C0K400&stname=C0K400&datepicker=2019-01-01&altitude=65m\n",
      "2019-01-02\n",
      "https://e-service.cwb.gov.tw/HistoryDataQuery/DayDataController.do?command=viewMain&station=C0K400&stname=C0K400&datepicker=2019-01-02&altitude=65m\n",
      "2019-01-03\n",
      "https://e-service.cwb.gov.tw/HistoryDataQuery/DayDataController.do?command=viewMain&station=C0K400&stname=C0K400&datepicker=2019-01-03&altitude=65m\n",
      "OK\n"
     ]
    }
   ],
   "source": [
    "start = datetime.datetime(2019, 1, 1)\n",
    "end = datetime.datetime(2019,1,3)\n",
    "crawler_obs_data(start, end)\n",
    "print(\"OK\")\n"
   ]
  },
  {
   "cell_type": "code",
   "execution_count": null,
   "id": "95a30245",
   "metadata": {},
   "outputs": [],
   "source": []
  }
 ],
 "metadata": {
  "kernelspec": {
   "display_name": "Python 3 (ipykernel)",
   "language": "python",
   "name": "python3"
  },
  "language_info": {
   "codemirror_mode": {
    "name": "ipython",
    "version": 3
   },
   "file_extension": ".py",
   "mimetype": "text/x-python",
   "name": "python",
   "nbconvert_exporter": "python",
   "pygments_lexer": "ipython3",
   "version": "3.8.13"
  }
 },
 "nbformat": 4,
 "nbformat_minor": 5
}
