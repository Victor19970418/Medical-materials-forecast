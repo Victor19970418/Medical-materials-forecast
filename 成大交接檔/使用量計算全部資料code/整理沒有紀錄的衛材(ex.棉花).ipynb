{
 "cells": [
  {
   "cell_type": "code",
   "execution_count": 1,
   "id": "a4d836f9",
   "metadata": {},
   "outputs": [],
   "source": [
    "import pandas as pd\n",
    "import os\n",
    "from collections import Counter"
   ]
  },
  {
   "cell_type": "markdown",
   "id": "57aedc34",
   "metadata": {},
   "source": [
    "取得庫存所有資料"
   ]
  },
  {
   "cell_type": "code",
   "execution_count": 4,
   "id": "523127cb",
   "metadata": {},
   "outputs": [
    {
     "name": "stdout",
     "output_type": "stream",
     "text": [
      "Index(['2019/01/29',          nan, '2019/01/03', '2019/01/08', '2019/01/15',\n",
      "       '2019/01/22', '2019/01/29',          nan, '2019/01/02', '2019/01/08',\n",
      "       ...\n",
      "       '2019/12/20', '2019/12/23', '2019/12/24', '2019/12/31',          nan,\n",
      "       '2019/12/03',          nan, '2019/12/03', '2019/12/17', '2019/12/24'],\n",
      "      dtype='object', name='日期', length=7219)\n",
      "Index(['2020/01/10',          nan, '2020/01/07', '2020/01/14', '2020/01/16',\n",
      "       '2020/01/18',          nan, '2020/01/16',          nan, '2020/01/18',\n",
      "       ...\n",
      "                nan, '2020/12/03', '2020/12/04', '2020/12/09', '2020/12/10',\n",
      "       '2020/12/11', '2020/12/15', '2020/12/26', '2020/12/29', '2020/12/31'],\n",
      "      dtype='object', name='日期', length=7987)\n",
      "Index(['2021/01/12',          nan, '2021/01/25', '2021/01/26', '2021/01/28',\n",
      "       '2021/01/29',          nan, '2021/01/04', '2021/01/12', '2021/01/23',\n",
      "       ...\n",
      "       '2021/12/07', '2021/12/16', '2021/12/28',          nan, '2021/12/28',\n",
      "                nan, '2021/12/22', '2021/12/28',          nan, '2021/12/28'],\n",
      "      dtype='object', name='日期', length=7598)\n"
     ]
    },
    {
     "data": {
      "text/html": [
       "<div>\n",
       "<style scoped>\n",
       "    .dataframe tbody tr th:only-of-type {\n",
       "        vertical-align: middle;\n",
       "    }\n",
       "\n",
       "    .dataframe tbody tr th {\n",
       "        vertical-align: top;\n",
       "    }\n",
       "\n",
       "    .dataframe thead th {\n",
       "        text-align: right;\n",
       "    }\n",
       "</style>\n",
       "<table border=\"1\" class=\"dataframe\">\n",
       "  <thead>\n",
       "    <tr style=\"text-align: right;\">\n",
       "      <th></th>\n",
       "      <th>料號</th>\n",
       "    </tr>\n",
       "  </thead>\n",
       "  <tbody>\n",
       "    <tr>\n",
       "      <th>0</th>\n",
       "      <td>A00120017</td>\n",
       "    </tr>\n",
       "    <tr>\n",
       "      <th>2</th>\n",
       "      <td>A00120033</td>\n",
       "    </tr>\n",
       "    <tr>\n",
       "      <th>8</th>\n",
       "      <td>A00120067</td>\n",
       "    </tr>\n",
       "    <tr>\n",
       "      <th>12</th>\n",
       "      <td>A00120102</td>\n",
       "    </tr>\n",
       "    <tr>\n",
       "      <th>14</th>\n",
       "      <td>A00120110</td>\n",
       "    </tr>\n",
       "    <tr>\n",
       "      <th>...</th>\n",
       "      <td>...</td>\n",
       "    </tr>\n",
       "    <tr>\n",
       "      <th>2548</th>\n",
       "      <td>M00030327</td>\n",
       "    </tr>\n",
       "    <tr>\n",
       "      <th>3635</th>\n",
       "      <td>B13700009</td>\n",
       "    </tr>\n",
       "    <tr>\n",
       "      <th>3960</th>\n",
       "      <td>V02204150</td>\n",
       "    </tr>\n",
       "    <tr>\n",
       "      <th>6398</th>\n",
       "      <td>V01100853</td>\n",
       "    </tr>\n",
       "    <tr>\n",
       "      <th>6885</th>\n",
       "      <td>C17711162</td>\n",
       "    </tr>\n",
       "  </tbody>\n",
       "</table>\n",
       "<p>284 rows × 1 columns</p>\n",
       "</div>"
      ],
      "text/plain": [
       "             料號\n",
       "0     A00120017\n",
       "2     A00120033\n",
       "8     A00120067\n",
       "12    A00120102\n",
       "14    A00120110\n",
       "...         ...\n",
       "2548  M00030327\n",
       "3635  B13700009\n",
       "3960  V02204150\n",
       "6398  V01100853\n",
       "6885  C17711162\n",
       "\n",
       "[284 rows x 1 columns]"
      ]
     },
     "execution_count": 4,
     "metadata": {},
     "output_type": "execute_result"
    }
   ],
   "source": [
    "# 月份\n",
    "months = [1,2,3,4,5,6,7,8,9,10,11,12]\n",
    "# 年分\n",
    "years = [108,109,110]\n",
    "# 病房\n",
    "# rooms = ['五病房','六病房','加護病房','呼吸照護病房']\n",
    "rooms = ['六病房']\n",
    "final_data = pd.DataFrame()\n",
    "\n",
    "for year in years:\n",
    "    for room in rooms:\n",
    "        total_data =  pd.DataFrame()\n",
    "        for month in months:\n",
    "            #暫存每個月分的領用量\n",
    "            usage_temp = pd.DataFrame()\n",
    "        #     每個月分的所有資料\n",
    "            temp =  pd.DataFrame()\n",
    "            # sheet_name控制開起的頁面\n",
    "\n",
    "    #         temp=pd.read_excel(f\"../成大醫院物料預測/2019~2021庫存/{year}年度病房衛材帳務日期/{year}年衛材批價明細(帳務日期)-{room}.xlsx\",sheet_name = f'{month}月',skiprows=2,index_col=0)\n",
    "            temp=pd.read_excel(f\"../成大醫院物料預測/2019~2021庫存/{year}年度病房出入庫日報表/{year}年度出入庫日報表-{room}.xlsx\",sheet_name = f'{month}月',index_col=0)\n",
    "        #         total_data=pd.read_excel(f\"../成大醫院物料預測/2019~2021庫存/{year}年度病房衛材帳務日期/{year}年衛材批價明細(帳務日期)-{room}.xlsx\",sheet_name = f'{month}月',index_col=0)\n",
    "            temp = temp[temp.columns.drop(list(temp.filter(regex='Unnamed')))]\n",
    "            total_data = pd.concat([total_data, temp])\n",
    "\n",
    "        # 只刪除日期是空值的\n",
    "        print(total_data.index)\n",
    "        total_data.reset_index(inplace=True)\n",
    "        total_data = total_data.rename(columns = {'index':'日期'})\n",
    "        total_data = total_data.dropna(subset=[\"日期\"])\n",
    "\n",
    "\n",
    "\n",
    "        # 加入週的欄位\n",
    "        total_data[\"日期\"] = pd.to_datetime(total_data[\"日期\"] ,format='%Y/%m/%d')\n",
    "        total_data['週'] = total_data['日期'].dt.isocalendar().week\n",
    "    final_data =  pd.concat([final_data, total_data])\n",
    "# 全部資料合併\n",
    "#     total_data.to_csv(f\"./全部資料合併/{year+1911}_{room}_合併檔.csv\",encoding='utf_8_sig') \n",
    "\n",
    "# 讀取所有料號，並刪除相同的料號的值\n",
    "final_data = final_data.drop_duplicates(subset=['料號'])\n",
    "final_data= final_data[['料號']]\n",
    "final_data['料號'] = final_data['料號'].str.strip()\n",
    "final_data"
   ]
  },
  {
   "cell_type": "markdown",
   "id": "d1982268",
   "metadata": {},
   "source": [
    "取得五病房有紀錄所有料號"
   ]
  },
  {
   "cell_type": "code",
   "execution_count": null,
   "id": "820f9736",
   "metadata": {
    "scrolled": false
   },
   "outputs": [],
   "source": [
    "record_data =  pd.DataFrame()\n",
    "for year in years:\n",
    "    temp =  pd.DataFrame()\n",
    "    temp=pd.read_csv(f\"../以月為單位/{year+1911}_{room}_衛材使用量.csv\")\n",
    "    record_data = pd.concat([record_data, temp])\n",
    "\n",
    "# 讀取所有料號，並刪除相同的料號的值\n",
    "record_data = record_data.drop_duplicates(subset=['料號'])\n",
    "record_data = record_data[['料號']]\n",
    "record_data['料號'] = record_data['料號'].str.strip()\n",
    "record_data"
   ]
  },
  {
   "cell_type": "code",
   "execution_count": null,
   "id": "fb966203",
   "metadata": {},
   "outputs": [],
   "source": [
    "final_data=final_data.append(record_data).reset_index(drop=True)\n",
    "final_data=final_data.drop_duplicates(subset=['料號'],keep=False)\n",
    "\n",
    "final_data.to_csv(f\"./{room}沒有紀錄衛材總類.csv\",encoding='utf_8_sig') \n",
    "\n",
    "\n"
   ]
  },
  {
   "cell_type": "markdown",
   "id": "b78b050e",
   "metadata": {},
   "source": [
    "和全部資料合併，查看找出的93筆資料的品名"
   ]
  },
  {
   "cell_type": "code",
   "execution_count": null,
   "id": "12e72799",
   "metadata": {},
   "outputs": [],
   "source": [
    "all_Eisai = pd.read_excel(f\"../../大庫所有衛材品項及實際撥補量資料.xlsx\",sheet_name = \"大庫房的所有衛材品項資料\",index_col=0)\n",
    "find_name = pd.read_csv(f\"./{room}沒有紀錄衛材總類.csv\")\n",
    "find_name = find_name[find_name.columns.drop(list(find_name.filter(regex='Unnamed')))]\n",
    "all_Eisai = all_Eisai[all_Eisai.columns.drop(list(all_Eisai.filter(regex='Unnamed')))]\n",
    "all_Eisai.reset_index(inplace=True)\n",
    "all_Eisai = all_Eisai.rename(columns = {'Order_Code':'料號'})\n",
    "all_Eisai['料號'] = all_Eisai['料號'].str.strip()\n",
    "data = pd.merge(find_name,all_Eisai, on=[\"料號\"],how=\"inner\")\n",
    "\n",
    "data\n",
    "data.to_csv(f\"./{room}最終需要計算衛材總類.csv\",encoding='utf_8_sig') \n",
    "\n",
    "\n"
   ]
  }
 ],
 "metadata": {
  "kernelspec": {
   "display_name": "Python 3 (ipykernel)",
   "language": "python",
   "name": "python3"
  },
  "language_info": {
   "codemirror_mode": {
    "name": "ipython",
    "version": 3
   },
   "file_extension": ".py",
   "mimetype": "text/x-python",
   "name": "python",
   "nbconvert_exporter": "python",
   "pygments_lexer": "ipython3",
   "version": "3.8.13"
  }
 },
 "nbformat": 4,
 "nbformat_minor": 5
}
